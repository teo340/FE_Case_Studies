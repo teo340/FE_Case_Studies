{
 "cells": [
  {
   "cell_type": "markdown",
   "metadata": {},
   "source": [
    "# Mathematical Engineering - Financial Engineering, FY 2024-2025\n",
    "<hr>\n",
    "\n",
    "# Risk Management - Exercise 4: Credit Portfolio Single Factor Model"
   ]
  },
  {
   "cell_type": "markdown",
   "metadata": {},
   "source": [
    "In this notebook, we go through the pricing and the risk assessment of a portfolio, made up of $100$ Zero Copoun Bonds of $2$ years maturity, each with a face value of $1 Mln$. The Bonds are issued at Investment Grade $(IG)$ and may during the course of their life change rating, according to a rating transition matrix defined below."
   ]
  },
  {
   "cell_type": "code",
   "execution_count": 74,
   "metadata": {},
   "outputs": [],
   "source": [
    "# Importing the libraries\n",
    "import os\n",
    "import pickle\n",
    "import numpy as np\n",
    "import pandas as pd\n",
    "from pathlib import Path\n",
    "\n",
    "from scipy.stats import norm\n",
    "\n",
    "from bootstrap_py import Bootstrap\n",
    "from utilities.ex1_utilities import (\n",
    "    business_date_offset,\n",
    "    get_discount_factor_by_zero_rates_linear_interp,\n",
    ")"
   ]
  },
  {
   "cell_type": "markdown",
   "metadata": {},
   "source": [
    "First, we bootstrap the interest rate curve to find the relevent discount factors. As we did in the previous assignments, the discounts are then put together in a `pd.Series`, indexed by the corresponding date."
   ]
  },
  {
   "cell_type": "code",
   "execution_count": 75,
   "metadata": {},
   "outputs": [],
   "source": [
    "b = Bootstrap.from_xls(\"MktData_CurveBootstrap.xls\")\n",
    "dates, discounts = b.fit()\n",
    "\n",
    "discount_factors = pd.Series(\n",
    "    discounts, index=dates, name=\"discount_factors\"\n",
    ")\n",
    "\n",
    "today = b.dates[0]"
   ]
  },
  {
   "cell_type": "markdown",
   "metadata": {},
   "source": [
    "The details of the problem are defined in the following cell: as afore mentioned, the portfolio contains $100$ bonds; each bond may default, as described by the rating transition matrix. In case of default, we could recover $\\pi = 40 \\%$ of the face value. Defaults are modelled according to a single factor model:\n",
    "\n",
    "$$ v_i = \\sqrt{\\rho} y + \\sqrt{1-\\rho} \\varepsilon_i $$\n",
    "\n",
    "where $y$ is the market factor and $\\varepsilon_i$ the idiosyncratic one. The correlation parameter $\\rho$ is initially set at $15\\%$."
   ]
  },
  {
   "cell_type": "code",
   "execution_count": 76,
   "metadata": {},
   "outputs": [
    {
     "data": {
      "text/html": [
       "<div>\n",
       "<style scoped>\n",
       "    .dataframe tbody tr th:only-of-type {\n",
       "        vertical-align: middle;\n",
       "    }\n",
       "\n",
       "    .dataframe tbody tr th {\n",
       "        vertical-align: top;\n",
       "    }\n",
       "\n",
       "    .dataframe thead th {\n",
       "        text-align: right;\n",
       "    }\n",
       "</style>\n",
       "<table border=\"1\" class=\"dataframe\">\n",
       "  <thead>\n",
       "    <tr style=\"text-align: right;\">\n",
       "      <th></th>\n",
       "      <th>IG</th>\n",
       "      <th>HY</th>\n",
       "      <th>Def</th>\n",
       "    </tr>\n",
       "  </thead>\n",
       "  <tbody>\n",
       "    <tr>\n",
       "      <th>IG</th>\n",
       "      <td>0.73</td>\n",
       "      <td>0.25</td>\n",
       "      <td>0.02</td>\n",
       "    </tr>\n",
       "    <tr>\n",
       "      <th>HY</th>\n",
       "      <td>0.35</td>\n",
       "      <td>0.60</td>\n",
       "      <td>0.05</td>\n",
       "    </tr>\n",
       "    <tr>\n",
       "      <th>Def</th>\n",
       "      <td>0.00</td>\n",
       "      <td>0.00</td>\n",
       "      <td>1.00</td>\n",
       "    </tr>\n",
       "  </tbody>\n",
       "</table>\n",
       "</div>"
      ],
      "text/plain": [
       "       IG    HY   Def\n",
       "IG   0.73  0.25  0.02\n",
       "HY   0.35  0.60  0.05\n",
       "Def  0.00  0.00  1.00"
      ]
     },
     "execution_count": 76,
     "metadata": {},
     "output_type": "execute_result"
    }
   ],
   "source": [
    "# Parameters\n",
    "issuers_num = 100  # Number of bonds in the portfolio # Error\n",
    "maturity = 2  # Maturity in years\n",
    "\n",
    "rating = \"IG\"  # Credit rating\n",
    "\n",
    "expiry = business_date_offset(today, year_offset=maturity)\n",
    "\n",
    "transition_matrix = pd.DataFrame(\n",
    "    [[0.73, 0.25, 0.02], [0.35, 0.6, 0.05], [0, 0, 1]],\n",
    "    index=[\"IG\", \"HY\", \"Def\"],\n",
    "    columns=[\"IG\", \"HY\", \"Def\"],\n",
    ")\n",
    "\n",
    "recovery_rate = 0.4 # Error 0.3\n",
    "face_value = 1_000_000\n",
    "rho = 0.15\n",
    "mc_simulations = 1_000_000\n",
    "\n",
    "transition_matrix"
   ]
  },
  {
   "cell_type": "markdown",
   "metadata": {},
   "source": [
    "### 1. Mark-to-Market the portfolio\n",
    "\n",
    "We price the bonds by simply discounting the final cashflow. Note that, to take into account the counterparty risk, we use a _defaultable discount factor_ $\\bar{B}(0,T)$, which is computed from the default probability of the obligor."
   ]
  },
  {
   "cell_type": "code",
   "execution_count": 77,
   "metadata": {},
   "outputs": [
    {
     "name": "stdout",
     "output_type": "stream",
     "text": [
      "Bond 1y: 956820.04\n"
     ]
    }
   ],
   "source": [
    "# Q1-Q3: Portfolio MtM Evaluate the present value in a years' time under various scenarios\n",
    "df_expiry = get_discount_factor_by_zero_rates_linear_interp(\n",
    "    today, expiry, discount_factors.index, discount_factors.values\n",
    ")\n",
    "\n",
    "# We consider the default at the midpoint\n",
    "pi_13 = transition_matrix.loc[rating, \"Def\"]\n",
    "survival_prob_1y = 1-transition_matrix.loc[rating, \"Def\"]\n",
    "survival_prob_2y = 1-(transition_matrix @ transition_matrix).loc[rating, \"Def\"]\n",
    "\n",
    "df_05y = get_discount_factor_by_zero_rates_linear_interp(\n",
    "    today, business_date_offset(today, month_offset=6), discount_factors.index, discount_factors.values\n",
    ")\n",
    "\n",
    "df_1y = get_discount_factor_by_zero_rates_linear_interp(\n",
    "    today, business_date_offset(today, year_offset=1), discount_factors.index, discount_factors.values\n",
    ")\n",
    "\n",
    "bond_1y = (1-pi_13)*df_1y + pi_13*df_05y*recovery_rate\n",
    "bond_1y *= face_value\n",
    "print(f\"Bond 1y: {bond_1y:.2f}\")"
   ]
  },
  {
   "cell_type": "code",
   "execution_count": 78,
   "metadata": {},
   "outputs": [],
   "source": [
    "fwd_1y2y = df_expiry/df_1y\n",
    "df_1_5y = get_discount_factor_by_zero_rates_linear_interp(\n",
    "    today, business_date_offset(today, month_offset=18), discount_factors.index, discount_factors.values\n",
    ")\n",
    "fwd_1y1_5y = df_1_5y/df_1y\n",
    "\n",
    "bond_1y2y_def_IG = (1-pi_13)*fwd_1y2y + pi_13*fwd_1y1_5y*recovery_rate\n",
    "\n",
    "pi_23 = transition_matrix.loc[\"HY\", \"Def\"]\n",
    "bond_1y2y_def_HY = (1-pi_23)*fwd_1y2y + pi_23*fwd_1y1_5y*recovery_rate"
   ]
  },
  {
   "cell_type": "code",
   "execution_count": 79,
   "metadata": {},
   "outputs": [
    {
     "name": "stdout",
     "output_type": "stream",
     "text": [
      "Bond 2y: 912882.11\n"
     ]
    }
   ],
   "source": [
    "pi_11 = transition_matrix.loc[\"IG\", \"IG\"]\n",
    "pi_12 = transition_matrix.loc[\"IG\", \"HY\"]\n",
    "pi_13 = transition_matrix.loc[\"IG\", \"Def\"]\n",
    "\n",
    "bond_2y_def = pi_11*df_1y*bond_1y2y_def_IG + pi_12*df_1y*bond_1y2y_def_HY + pi_13*df_05y*recovery_rate\n",
    "bond_2y_def *= face_value\n",
    "print(f\"Bond 2y: {bond_2y_def:.2f}\")"
   ]
  },
  {
   "cell_type": "code",
   "execution_count": 80,
   "metadata": {},
   "outputs": [
    {
     "name": "stdout",
     "output_type": "stream",
     "text": [
      "Portfolio MtM: 91288211.35\n"
     ]
    }
   ],
   "source": [
    "ptf_mtm = 100*bond_2y_def\n",
    "\n",
    "print(f\"Portfolio MtM: {ptf_mtm:.2f}\")"
   ]
  },
  {
   "cell_type": "markdown",
   "metadata": {},
   "source": [
    "### 2-3. 1y Forward Price\n",
    "\n",
    "In the process of the computing the bond price, we've already valued the one year forward price in both rating scenarios: investment grade and high yield. Hence, we just need to scale our results by the bond face value"
   ]
  },
  {
   "cell_type": "code",
   "execution_count": 81,
   "metadata": {},
   "outputs": [
    {
     "name": "stdout",
     "output_type": "stream",
     "text": [
      "fwd_price_ig: 958106.69\n",
      "fwd_price_hy: 940823.27\n"
     ]
    }
   ],
   "source": [
    "fwd_price_IG = bond_1y2y_def_IG*face_value\n",
    "fwd_price_HY = bond_1y2y_def_HY*face_value\n",
    "\n",
    "print(f\"fwd_price_ig: {fwd_price_IG:.2f}\")\n",
    "print(f\"fwd_price_hy: {fwd_price_HY:.2f}\")"
   ]
  },
  {
   "cell_type": "markdown",
   "metadata": {},
   "source": [
    "### 4. Monte Carlo simulation\n",
    "\n",
    "We simulate the trajectory of the bond $N = 10^6$ times, counting the average numbers of defaults and of downgrade events. In the context of the single factor model described above, a credit event is related to the quantity $v_i$ breaking a certain barrier. This barrier is inferred from the transition matrix of the obligor:\n",
    "\n",
    "$$\n",
    "    K_{def} = \\mathcal{N}^{-1}(p_{IG \\to Def}) = \\mathcal{N}^{-1}(\\pi_{13}) \\\\\n",
    "    K_{down} = \\mathcal{N}^{-1}(p_{IG \\to HY}+p_{IG \\to Def}) = \\mathcal{N}^{-1}(\\pi_{12}+\\pi_{13})\n",
    "$$"
   ]
  },
  {
   "cell_type": "code",
   "execution_count": 82,
   "metadata": {},
   "outputs": [],
   "source": [
    "# Q4: Monte Carlo simulation\n",
    "np.random.seed(42)  # For reproducibility\n",
    "\n",
    "# Barriers and PnL for a single IG issuer\n",
    "barrier_default = norm.ppf(transition_matrix.loc[rating, \"Def\"])\n",
    "barrier_downgrade = norm.ppf(transition_matrix.loc[rating, \"HY\"]+transition_matrix.loc[rating, \"Def\"])\n",
    "barrier_upgrade = np.inf  # It can't be upgraded\n",
    "\n",
    "loss_given_default = (1-recovery_rate)*face_value\n",
    "loss_given_downgrade = fwd_price_IG - fwd_price_HY\n",
    "loss_status_quo = fwd_price_IG - ptf_mtm\n",
    "loss_upgrade = 0"
   ]
  },
  {
   "cell_type": "code",
   "execution_count": 83,
   "metadata": {},
   "outputs": [],
   "source": [
    "rho = 0.15\n",
    "y = np.random.normal(size=(mc_simulations, 1))\n",
    "z = np.random.normal(size=(mc_simulations, issuers_num))\n",
    "# Adding correlation\n",
    "v = np.sqrt(rho)*y + np.sqrt(1-rho)*z"
   ]
  },
  {
   "cell_type": "code",
   "execution_count": 84,
   "metadata": {},
   "outputs": [
    {
     "name": "stdout",
     "output_type": "stream",
     "text": [
      "Average defaults: 0.02004063\n",
      "Average downgrades: 0.25022031\n"
     ]
    }
   ],
   "source": [
    "#Binary variables\n",
    "defaults = np.where(v < barrier_default, 1, 0)\n",
    "downgrades = np.where((barrier_default <= v) & (v < barrier_downgrade), 1, 0)\n",
    "status_quo = np.where(v >= barrier_downgrade, 1, 0)\n",
    "upgrades = np.where(v > barrier_upgrade, 1, 0)\n",
    "\n",
    "print(f\"Average defaults: {defaults.mean()}\")\n",
    "print(f\"Average downgrades: {downgrades.mean()}\")"
   ]
  },
  {
   "cell_type": "markdown",
   "metadata": {},
   "source": [
    "The average numbers of defaults and downgrandes are coherent with the initial rating transition matrix.\n",
    "\n",
    "Now we can estimate the Value at Risk in two different scenarios: first, we consider only the risk associated to the default of the bond; second, we also take into account rating downgrades."
   ]
  },
  {
   "cell_type": "code",
   "execution_count": 85,
   "metadata": {},
   "outputs": [],
   "source": [
    "def scenario_sim(defaults_only = True):\n",
    "    # Here one should consider also the  impact of the status quo\n",
    "    if defaults_only:\n",
    "        scenario = loss_given_default*np.sum(defaults, axis=1)\n",
    "    else:\n",
    "        scenario = loss_given_default * np.sum(defaults, axis=1) + loss_given_downgrade * np.sum(downgrades, axis=1)\n",
    "\n",
    "    VaR = np.quantile(scenario, 0.99)  # 1% VaR\n",
    "    expected_loss = np.mean(scenario)  # Expected loss \n",
    "\n",
    "    # print(f\"Expected loss: {expected_loss:,.2f}€\")\n",
    "    # print(f\"VaR: {VaR:,.2f}€\")\n",
    "\n",
    "    return scenario, VaR, expected_loss\n",
    "\n",
    "# Evaluating the one-year 99% VaR by taking into account defaults only/defaults and downgrades\n",
    "scenario_1, var_1, expected_loss_1 = scenario_sim(defaults_only=True)\n",
    "scenario_2, var_2, expected_loss_2 = scenario_sim(defaults_only=False)"
   ]
  },
  {
   "cell_type": "code",
   "execution_count": 86,
   "metadata": {},
   "outputs": [
    {
     "name": "stdout",
     "output_type": "stream",
     "text": [
      "Defaults only: VaR = 7,200,000.00€    -    Expected loss = 1,202,437.80€\n",
      "Defaults and Downgrades: VaR = 8,012,320.96€    -    Expected loss = 1,634,904.19€\n"
     ]
    }
   ],
   "source": [
    "print(f\"Defaults only: VaR = {var_1:,.2f}€    -    Expected loss = {expected_loss_1:,.2f}€\")\n",
    "print(f\"Defaults and Downgrades: VaR = {var_2:,.2f}€    -    Expected loss = {expected_loss_2:,.2f}€\")"
   ]
  },
  {
   "cell_type": "markdown",
   "metadata": {},
   "source": [
    "We can plot the distribution of the losses under the two scenario to visualize the $.99$ quantile"
   ]
  },
  {
   "cell_type": "code",
   "execution_count": 87,
   "metadata": {},
   "outputs": [
    {
     "data": {
      "text/plain": [
       "Text(0.5, 1.0, 'Tail Scenario')"
      ]
     },
     "execution_count": 87,
     "metadata": {},
     "output_type": "execute_result"
    },
    {
     "data": {
      "image/png": "[encoded data removed]",
      "text/plain": [
       "<Figure size 640x480 with 1 Axes>"
      ]
     },
     "metadata": {},
     "output_type": "display_data"
    }
   ],
   "source": [
    "import matplotlib.pyplot as plt\n",
    "\n",
    "plt.figure()\n",
    "plt.plot(sorted(scenario_1), label=\"Defaults only\")\n",
    "plt.plot(sorted(scenario_2), label=\"Defaults and Downgrades\")\n",
    "plt.legend()\n",
    "plt.grid()\n",
    "plt.title(\"Tail Scenario\")"
   ]
  },
  {
   "cell_type": "code",
   "execution_count": 88,
   "metadata": {},
   "outputs": [
    {
     "data": {
      "image/png": "[encoded data removed]",
      "text/plain": [
       "<Figure size 640x480 with 1 Axes>"
      ]
     },
     "metadata": {},
     "output_type": "display_data"
    }
   ],
   "source": [
    "plt.hist(scenario_1, bins=100, density=True, label=\"Default\", color=\"blue\")\n",
    "plt.hist(scenario_2, bins=100, density=True, label=\"Default+Downgrade\", color=\"orange\")\n",
    "plt.axvline(var_1, color=\"blue\", linestyle=\"--\", label=\"VaR Default\")\n",
    "plt.axvline(var_2, color=\"orange\", linestyle=\"--\", label=\"VaR Default+Downgrade\")\n",
    "plt.legend()\n",
    "plt.grid()"
   ]
  },
  {
   "cell_type": "markdown",
   "metadata": {},
   "source": [
    "### 5. Impact of correlation\n",
    "\n",
    "In the above calculation, we fixed $\\rho = 0.15$. Here we change the value in the interval $[0,.3]$, to study how relevant is the impact of this parameter on the asssessment of risk. "
   ]
  },
  {
   "cell_type": "code",
   "execution_count": 89,
   "metadata": {},
   "outputs": [
    {
     "name": "stdout",
     "output_type": "stream",
     "text": [
      "rho = 0.00 - VaR = 4,014,802.19€    -    Expected loss = 1,633,663.24€\n",
      "rho = 0.30 - VaR = 12,281,454.65€    -    Expected loss = 1,635,890.45€\n"
     ]
    }
   ],
   "source": [
    "rhos = [0.0, 0.30]\n",
    "for rho in rhos:\n",
    "    # Adding correlation\n",
    "    v_i = np.sqrt(rho)*y + np.sqrt(1-rho)*z\n",
    "\n",
    "    #Binary variables\n",
    "    defaults = np.where(v_i < barrier_default, 1, 0)\n",
    "    downgrades = np.where((barrier_default <= v_i) & (v_i < barrier_downgrade), 1, 0)\n",
    "    status_quo = np.where(v_i >= barrier_downgrade, 1, 0) \n",
    "    upgrades = np.where(v_i > barrier_upgrade, 1, 0)\n",
    "\n",
    "    scenario, var, el = scenario_sim(defaults_only=False)\n",
    "    print(f\"rho = {rho:.2f} - VaR = {var:,.2f}€    -    Expected loss = {el:,.2f}€\")"
   ]
  },
  {
   "cell_type": "markdown",
   "metadata": {},
   "source": [
    "As expected, higher correlation between obligors leads to higher risks. To get a more clear view of the situation, we plotted the $VaR$ for each correlation value in between $\\rho = 0$ and $\\rho = 1$. We observe the relationship is highly non-linear for large values of $\\rho$."
   ]
  },
  {
   "cell_type": "code",
   "execution_count": 90,
   "metadata": {},
   "outputs": [
    {
     "data": {
      "text/plain": [
       "Text(0.5, 0, 'Correlation')"
      ]
     },
     "execution_count": 90,
     "metadata": {},
     "output_type": "execute_result"
    },
    {
     "data": {
      "image/png": "[encoded data removed]",
      "text/plain": [
       "<Figure size 640x480 with 1 Axes>"
      ]
     },
     "metadata": {},
     "output_type": "display_data"
    }
   ],
   "source": [
    "## WARNING: because of the large number of simulations, this cell may take a while to run.\n",
    "## Estimated time on standard laptop: 10-15 seconds\n",
    "\n",
    "\n",
    "rhos = np.arange(0.0, 1.0, 0.1)\n",
    "vars = [None]*len(rhos)\n",
    "for i,rho in enumerate(rhos):\n",
    "    # Adding correlation\n",
    "    v_i = np.sqrt(rho)*y + np.sqrt(1-rho)*z\n",
    "\n",
    "    #Binary variables\n",
    "    defaults = np.where(v_i < barrier_default, 1, 0)\n",
    "    downgrades = np.where((barrier_default <= v_i) & (v_i < barrier_downgrade), 1, 0)\n",
    "    status_quo = np.where(v_i >= barrier_downgrade, 1, 0) \n",
    "    upgrades = np.where(v_i > barrier_upgrade, 1, 0)\n",
    "\n",
    "    _, vars[i], _ = scenario_sim(defaults_only=False)\n",
    "\n",
    "plt.scatter(rhos, vars, label=\"VaR\")\n",
    "plt.grid()\n",
    "plt.title(\"Correlation vs VaR\")\n",
    "plt.xlabel(\"Correlation\")"
   ]
  },
  {
   "cell_type": "markdown",
   "metadata": {},
   "source": [
    "### 7. Recovery rate drops\n",
    "\n",
    "Lastly, we study the case in which the recovery rate drops to $\\pi = 10\\%$ in the case of a downgrade. This has a direct impact on the forward $HY$ price, which needs to be recomputed, and will ultimately lead to a higher loss given downgrade. "
   ]
  },
  {
   "cell_type": "code",
   "execution_count": 91,
   "metadata": {},
   "outputs": [
    {
     "name": "stdout",
     "output_type": "stream",
     "text": [
      "Expected loss: 2,004,149.44€\n",
      "VaR: 8,705,890.83€\n"
     ]
    }
   ],
   "source": [
    "# we rerun the initial simulation\n",
    "rho = 0.15\n",
    "\n",
    "new_recovery = 0.1\n",
    "\n",
    "bond_1y2y_def_HY_new = (1-pi_23)*fwd_1y2y + pi_23*fwd_1y1_5y*new_recovery\n",
    "fwd_price_HY_new = bond_1y2y_def_HY_new*face_value\n",
    "new_loss_given_down = fwd_price_IG - fwd_price_HY_new\n",
    "\n",
    "defaults = np.where(v < barrier_default, 1, 0)\n",
    "downgrades = np.where((barrier_default <= v) & (v < barrier_downgrade), 1, 0)\n",
    "\n",
    "scenario_new = loss_given_default * np.sum(defaults, axis=1) + new_loss_given_down * np.sum(downgrades, axis=1)\n",
    "\n",
    "VaR = np.quantile(scenario_new, 0.99)  # 1% VaR\n",
    "expected_loss = np.mean(scenario_new)  # Expected loss \n",
    "\n",
    "print(f\"Expected loss: {expected_loss:,.2f}€\")\n",
    "print(f\"VaR: {VaR:,.2f}€\")"
   ]
  }
 ],
 "metadata": {
  "kernelspec": {
   "display_name": "fineng",
   "language": "python",
   "name": "python3"
  },
  "language_info": {
   "codemirror_mode": {
    "name": "ipython",
    "version": 3
   },
   "file_extension": ".py",
   "mimetype": "text/x-python",
   "name": "python",
   "nbconvert_exporter": "python",
   "pygments_lexer": "ipython3",
   "version": "3.10.16"
  }
 },
 "nbformat": 4,
 "nbformat_minor": 2
}
