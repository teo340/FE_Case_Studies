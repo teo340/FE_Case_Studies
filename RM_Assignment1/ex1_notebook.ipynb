{
 "cells": [
  {
   "cell_type": "markdown",
   "metadata": {},
   "source": [
    "# Mathematical Engineering - Financial Engineering, FY 2024-2025\n",
    "\n",
    "<hr>\n",
    "\n",
    "## Risk Management - Exercise 1: Hedging a Swaption Portfolio"
   ]
  },
  {
   "cell_type": "code",
   "execution_count": 1,
   "metadata": {},
   "outputs": [],
   "source": [
    "# Importing relevant libraries. The bootstrap_py package has been built in the previous assignment.\n",
    "# The ex1_utilities file contains some useful functions.\n",
    "\n",
    "from bootstrap_py import Bootstrap\n",
    "from utilities.ex1_utilities import (\n",
    "    business_date_offset,\n",
    "    swaption_price_calculator,\n",
    "    date_series,\n",
    "    irs_proxy_duration,\n",
    "    swap_par_rate,\n",
    "    swap_mtm,\n",
    "    SwapType,\n",
    "    shift_curve\n",
    ")\n",
    "import pandas as pd\n",
    "import numpy as np"
   ]
  },
  {
   "cell_type": "markdown",
   "metadata": {},
   "source": [
    "First, we run the bootstrap on the Market Data, using the `Bootstrap.fit()` function"
   ]
  },
  {
   "cell_type": "code",
   "execution_count": 2,
   "metadata": {},
   "outputs": [],
   "source": [
    "b = Bootstrap.from_xls(\"MktData_CurveBootstrap.xls\")\n",
    "\n",
    "dates, discounts = b.fit()"
   ]
  },
  {
   "cell_type": "markdown",
   "metadata": {},
   "source": [
    "Our portfolio is made up of one $10y - 5y$ swaption and one $10y$ interest rate swap *IRS*. In the following we define some important characteristics"
   ]
  },
  {
   "cell_type": "code",
   "execution_count": 3,
   "metadata": {},
   "outputs": [],
   "source": [
    "# Parameters\n",
    "swaption_maturity_y = 10  # In years\n",
    "swaption_maturity_m = 1  # In months\n",
    "swaption_tenor_y = 5  # In years\n",
    "swaption_fixed_leg_freq = 1  # Times a year the fixed leg pays\n",
    "swaption_type = SwapType.RECEIVER\n",
    "swaption_notional = 700_000_000\n",
    "sigma_black = 0.7955  # Black swaption volatility\n",
    "\n",
    "irs_maturity = 10  # In years\n",
    "irs_fixed_leg_freq = 1\n",
    "irs_notional = 600_000_000\n",
    "\n",
    "# In the following, it's convenient to format the discount factors\n",
    "# into a pandas Series, with the dates as index.\n",
    "discount_factors = pd.Series(discounts, index=dates)\n",
    "today = discount_factors.index[0] # 2023-02-02"
   ]
  },
  {
   "cell_type": "markdown",
   "metadata": {},
   "source": [
    "### 1. Mark to Market the portfolio, mid-rate curve\n",
    "\n",
    "In this section we price our instruments, according to the mid-rate curve. First, we compute the forward swap rate, using the function defined in `ex1_utilities.py` called `swap_par_rate()`. This method can compute the forward and the spot swap rate; for a more detailed explanation, please refer to the documentation.\n",
    "\n",
    "Notice that dates are always checked to be business days, using the provided method `business_date_offset()`."
   ]
  },
  {
   "cell_type": "code",
   "execution_count": 4,
   "metadata": {},
   "outputs": [
    {
     "name": "stdout",
     "output_type": "stream",
     "text": [
      "Forward swap rate: 2.97979%\n"
     ]
    }
   ],
   "source": [
    "# Q1: Portfolio MtM\n",
    "# Computing the forward swap rate\n",
    "\n",
    "swaption_expiry = business_date_offset(\n",
    "    today, year_offset=swaption_maturity_y, month_offset=swaption_maturity_m\n",
    ")\n",
    "\n",
    "underlying_expiry = business_date_offset(\n",
    "    today,\n",
    "    year_offset=swaption_maturity_y + swaption_tenor_y,\n",
    "    month_offset=swaption_maturity_m,\n",
    ")\n",
    "\n",
    "swaption_underlying_fixed_leg_schedule = date_series(\n",
    "    swaption_expiry, underlying_expiry, swaption_fixed_leg_freq\n",
    ")\n",
    "\n",
    "fwd_swap_rate = swap_par_rate(\n",
    "    swaption_underlying_fixed_leg_schedule[1:],\n",
    "    discount_factors,\n",
    "    swaption_underlying_fixed_leg_schedule[0],\n",
    ")\n",
    "print(f\"Forward swap rate: {fwd_swap_rate:.5%}\")"
   ]
  },
  {
   "cell_type": "markdown",
   "metadata": {},
   "source": [
    "To price the swaption we use `swaption_price_calculator()`, implemented in the utils fils. This method compute also the swaption delta, this information will be useful in the following."
   ]
  },
  {
   "cell_type": "code",
   "execution_count": 5,
   "metadata": {},
   "outputs": [
    {
     "name": "stdout",
     "output_type": "stream",
     "text": [
      "Swaption price (single): €0.08152\n",
      "Swaption price (notional): €57062717.42\n",
      "Swaption delta: -0.356064\n"
     ]
    }
   ],
   "source": [
    "# Q1: Portfolio MtM\n",
    "# Pricing ATM swaption\n",
    "\n",
    "strike = fwd_swap_rate  # Since ATM\n",
    "\n",
    "swaption_price, swaption_delta = swaption_price_calculator(\n",
    "    fwd_swap_rate,\n",
    "    strike,\n",
    "    today,\n",
    "    swaption_expiry,\n",
    "    underlying_expiry,\n",
    "    sigma_black,\n",
    "    swaption_fixed_leg_freq,\n",
    "    discount_factors,\n",
    "    swaption_type,\n",
    "    compute_delta=True,\n",
    ")\n",
    "\n",
    "print(f\"Swaption price (single): €{swaption_price:.5f}\")\n",
    "print(f'Swaption price (notional): €{swaption_price*swaption_notional:.2f}')\n",
    "print(f'Swaption delta: {swaption_delta:.6f}')"
   ]
  },
  {
   "cell_type": "markdown",
   "metadata": {},
   "source": [
    "The total value of our portfolio is the swaption plus the IRS. However, the IRS is issued at par, so its Net Present Value is zero. We verify this statement computing the `irs_mtm` through the `swap_mtm()` method."
   ]
  },
  {
   "cell_type": "code",
   "execution_count": 6,
   "metadata": {},
   "outputs": [
    {
     "name": "stdout",
     "output_type": "stream",
     "text": [
      "Swap Rate 10y: 2.85050%\n",
      "IRS MtM: €-0.00000\n",
      "Portfolio MtM: €57,062,717.42\n"
     ]
    }
   ],
   "source": [
    "# Q1: Portfolio MtM\n",
    "# Calculating portfolio market value\n",
    "\n",
    "irs_expiry = business_date_offset(today, year_offset=irs_maturity)\n",
    "\n",
    "# IRS fixed payment dates\n",
    "irs_fixed_leg_payment_dates = date_series(today, irs_expiry, irs_fixed_leg_freq)[1:]\n",
    "\n",
    "irs_rate_10y = swap_par_rate(irs_fixed_leg_payment_dates, discount_factors)\n",
    "\n",
    "# The swap MtM is zero since entered today, so that portfolio MtM equals the swaption value\n",
    "irs_mtm = swap_mtm(irs_rate_10y,irs_fixed_leg_payment_dates,discount_factors,SwapType.RECEIVER)\n",
    "\n",
    "print(f\"Swap Rate 10y: {irs_rate_10y:.5%}\")\n",
    "print(f\"IRS MtM: €{irs_mtm:,.5f}\")\n",
    "\n",
    "ptf_mtm = swaption_notional * swaption_price + irs_notional * irs_mtm\n",
    "print(f\"Portfolio MtM: €{ptf_mtm:,.2f}\")"
   ]
  },
  {
   "cell_type": "markdown",
   "metadata": {},
   "source": [
    "### 2. Portfolio DV01 Parallel Shift\n",
    "\n",
    "We evaluate the portfolio sensitivity to a $1bp$ parallel shift of the interest rate curve. To do so, we must first bump the curve up, using the `shift_curve()` function."
   ]
  },
  {
   "cell_type": "code",
   "execution_count": 7,
   "metadata": {},
   "outputs": [],
   "source": [
    "# Q2: Portfolio DV01-parallel\n",
    "# Bootstrap after a shock on market rates\n",
    "\n",
    "b_shocked = shift_curve(b, bp=1e-4)\n",
    "_, discounts_shocked = b_shocked.fit()\n",
    "discount_factors_up = pd.Series(discounts_shocked, index=dates)"
   ]
  },
  {
   "cell_type": "markdown",
   "metadata": {},
   "source": [
    "Now, we re-evaluate our positions: first the forward swap rate, then the swaption and finally the IRS. The latter won't be zero anymore, because we've shifted the curve."
   ]
  },
  {
   "cell_type": "code",
   "execution_count": 8,
   "metadata": {},
   "outputs": [
    {
     "name": "stdout",
     "output_type": "stream",
     "text": [
      "Price Swaption (single) Up: 0.08138\n",
      "Price Swaption (notional) Up: 56965451.95\n"
     ]
    }
   ],
   "source": [
    "# Q2: Portfolio DV01-parallel\n",
    "# Re-evaluate swaption price\n",
    "\n",
    "fwd_swap_rate_up = swap_par_rate(\n",
    "    swaption_underlying_fixed_leg_schedule[1:],\n",
    "    discount_factors_up,\n",
    "    swaption_underlying_fixed_leg_schedule[0],\n",
    ")\n",
    "\n",
    "# Swaption shocked price\n",
    "swaption_price_up, delta_up = swaption_price_calculator(\n",
    "    fwd_swap_rate_up, # ERROR FWD_SWAP_RATE\n",
    "    strike,\n",
    "    today,\n",
    "    swaption_expiry,\n",
    "    underlying_expiry,\n",
    "    sigma_black,\n",
    "    swaption_fixed_leg_freq,\n",
    "    discount_factors_up,\n",
    "    swaption_type,\n",
    "    compute_delta=True\n",
    ")\n",
    "\n",
    "\n",
    "print(f\"Price Swaption (single) Up: {swaption_price_up:.5f}\")\n",
    "print(f\"Price Swaption (notional) Up: {swaption_price_up*swaption_notional:.2f}\")"
   ]
  },
  {
   "cell_type": "code",
   "execution_count": 9,
   "metadata": {},
   "outputs": [
    {
     "name": "stdout",
     "output_type": "stream",
     "text": [
      "Price IRS (single) Up: €0.00086\n",
      "Price IRS (notional) Up: €514,969.19\n"
     ]
    }
   ],
   "source": [
    "# Q2: Portfolio DV01-parallel\n",
    "# Re-evaluate IRS MtM\n",
    "\n",
    "# Swap shocked MtM ~ no longer zero\n",
    "irs_mtm_up = swap_mtm(\n",
    "    irs_rate_10y,\n",
    "    irs_fixed_leg_payment_dates,\n",
    "    discount_factors_up\n",
    ")\n",
    "\n",
    "print(f\"Price IRS (single) Up: €{irs_mtm_up:,.5f}\")\n",
    "print(f\"Price IRS (notional) Up: €{irs_mtm_up*irs_notional:,.2f}\")"
   ]
  },
  {
   "cell_type": "markdown",
   "metadata": {},
   "source": [
    "To calculate the DV01 we just need to take the difference between the two portfolio values. We also compute the DV01 of each instrument, as will later on be convenient in the hedging process."
   ]
  },
  {
   "cell_type": "code",
   "execution_count": 10,
   "metadata": {},
   "outputs": [
    {
     "name": "stdout",
     "output_type": "stream",
     "text": [
      "Swaption DV01: -97,265.47\n",
      "IRS DV01: 514,969.19\n",
      "Portfolio DV01: 417,703.71\n"
     ]
    }
   ],
   "source": [
    "# Q2: Portfolio DV01-parallel\n",
    "# Compute DV01s\n",
    "\n",
    "# Portfolio shocked MtM\n",
    "ptf_mtm_up = swaption_notional * swaption_price_up + irs_notional * irs_mtm_up\n",
    "\n",
    "# DV01\n",
    "ptf_numeric_dv01 = ptf_mtm_up - ptf_mtm\n",
    "\n",
    "DV01_swaption = swaption_price_up - swaption_price\n",
    "DV01_irs = irs_mtm_up - irs_mtm\n",
    "DV01_portfolio = swaption_notional*DV01_swaption + irs_notional*DV01_irs\n",
    "print(f\"Swaption DV01: {swaption_notional*DV01_swaption:,.2f}\")\n",
    "print(f\"IRS DV01: {irs_notional*DV01_irs:,.2f}\")\n",
    "print(f\"Portfolio DV01: {DV01_portfolio:,.2f}\")"
   ]
  },
  {
   "cell_type": "markdown",
   "metadata": {},
   "source": [
    "As expected, the DV01 of a receiver swaption is negative, because an increase in the rates will lead to higher floating leg payments for the holder. On the other hand, the DV01 of a payer IRS is positive, because the floating leg payments, which the holder gets, will increase. The total result on the portfolio is a combination of the two effects, leading to a positive DV01 as IRS play a dominant role in the portfolio sensitivity."
   ]
  },
  {
   "cell_type": "markdown",
   "metadata": {},
   "source": [
    "### 3. DV01 Approximation\n",
    "\n",
    "We also estimated the DV01 of the portfolio using an analytical approximation, which considers the swaption $\\Delta$ and the IRS Duration $MacD$. The $\\Delta$ has been computed some cells above, while the duration is calculated using the `irs_proxy_duration()` function."
   ]
  },
  {
   "cell_type": "code",
   "execution_count": 11,
   "metadata": {},
   "outputs": [
    {
     "name": "stdout",
     "output_type": "stream",
     "text": [
      "Swaption DV01: -24,924.50\n",
      "IRS DV01: 530,630.66\n",
      "Portfolio proxy DV01: €505,706.16\n"
     ]
    }
   ],
   "source": [
    "# Q3: Analytical portfolio DV01\n",
    "# DV01 approximation\n",
    "\n",
    "irs_duration = irs_proxy_duration(\n",
    "    today, irs_rate_10y, irs_fixed_leg_payment_dates, discount_factors\n",
    ")\n",
    "\n",
    "ptf_proxy_dv01 = (\n",
    "    swaption_notional * swaption_delta + irs_notional * irs_duration\n",
    ") * 1e-4\n",
    "\n",
    "print(f\"Swaption DV01: {swaption_delta*swaption_notional/10000:,.2f}\")\n",
    "print(f\"IRS DV01: {irs_duration*irs_notional/10000:,.2f}\")\n",
    "print(f\"Portfolio proxy DV01: €{ptf_proxy_dv01:,.2f}\")"
   ]
  },
  {
   "cell_type": "markdown",
   "metadata": {},
   "source": [
    "The errors of this estimate are quite large in absolute terms. However, we should consider them relatively to the scale of our portfolio, with a total notional of $1.3$ billions. Also, recall that the duration is actually an approximation of the $DV01z$, which for a vanilla IRS is in turn an approximation of the actual DV01."
   ]
  },
  {
   "cell_type": "markdown",
   "metadata": {},
   "source": [
    "### 4. Delta-Hegde with 10y IRS\n",
    "\n",
    "We now proceed to make our porfolio $\\Delta$-neutral, using a $10y$ IRS. The total $DV01$ of the portfolio is the sum of the swaption and the IRS ones, weighted for their respective notionals. If we add $x$ units of IRS to the portfolio, the new DV01 will be\n",
    "\n",
    "$$\n",
    "    N_{swap}DV01_{swap} + N_{irs}DV01_{irs} + x DV01_{irs} = 0\n",
    "$$"
   ]
  },
  {
   "cell_type": "code",
   "execution_count": 12,
   "metadata": {},
   "outputs": [
    {
     "name": "stdout",
     "output_type": "stream",
     "text": [
      "With €113,000,000 swap notional the DV01 is €-280.\n"
     ]
    }
   ],
   "source": [
    "# Q4: Delta hedging of the swaption changing the IRS notional\n",
    "# Exact approach\n",
    "\n",
    "min_lot = 1_000_000\n",
    "\n",
    "x = -(DV01_swaption*swaption_notional+DV01_irs*irs_notional)/DV01_irs\n",
    "# 10y swaps are sold in mininum lots of 1M\n",
    "x = np.round(x/min_lot)*min_lot\n",
    "\n",
    "delta_hedge_swap_notional = irs_notional + x\n",
    "\n",
    "delta_hedge_dv01 = (\n",
    "    swaption_notional * swaption_price_up + delta_hedge_swap_notional * irs_mtm_up\n",
    ") - ptf_mtm\n",
    "\n",
    "print(\n",
    "    f\"With €{delta_hedge_swap_notional:,.0f} swap notional the DV01 is €{delta_hedge_dv01:,.0f}.\"\n",
    ")"
   ]
  },
  {
   "cell_type": "markdown",
   "metadata": {},
   "source": [
    "The DV01 is not exactly zero, because we had to truncate the exact numbers of contracts, because the are sold in mininum lots of $1 Mln$ each. Notice the total notional of payer $IRS$ has decreased from $600 Mln$ to $113 Mln$, so we are effectively selling payer IRS. This is coherent with our previous observation, the portfolio DV01 is positive, so to rebalance it we need to enter into a *DV01-negative* position, like shorting a payer IRS."
   ]
  },
  {
   "cell_type": "code",
   "execution_count": 13,
   "metadata": {},
   "outputs": [
    {
     "name": "stdout",
     "output_type": "stream",
     "text": [
      "With €28,000,000 swap notional the DV01 is €-73,234.\n"
     ]
    }
   ],
   "source": [
    "# Q4: Delta hedging of the swaption changing the IRS notional\n",
    "# Approximate approach\n",
    "\n",
    "# Using the approximated DV01\n",
    "# delta_hedge_swap_notional_proxy = -(swaption_delta*swaption_notional+irs_duration*irs_notional)/irs_duration\n",
    "x = -(swaption_delta*swaption_notional+irs_duration*irs_notional)/irs_duration\n",
    "x = np.round(x/min_lot)*min_lot\n",
    "\n",
    "delta_hedge_swap_notional_proxy = irs_notional + x\n",
    "\n",
    "delta_hedge_dv01_approx = (\n",
    "    swaption_notional * swaption_price_up + delta_hedge_swap_notional_proxy * irs_mtm_up\n",
    ") - ptf_mtm\n",
    "\n",
    "print(\n",
    "    f\"With €{delta_hedge_swap_notional_proxy:,.0f} swap notional the DV01 is €{delta_hedge_dv01_approx:,.0f}.\"\n",
    ")"
   ]
  },
  {
   "cell_type": "markdown",
   "metadata": {},
   "source": [
    "### 5. Coarse-Grained Bucket DV01"
   ]
  },
  {
   "cell_type": "markdown",
   "metadata": {},
   "source": [
    "We evaluate the portfolio coarse-grained buckets DV01 for 10 and 15 years. We need to bumb again the interest rate curve, introducing some weights to select the relevant part of the curve. Later on, we re-price the swaption and the IRS, computing the difference"
   ]
  },
  {
   "cell_type": "code",
   "execution_count": 14,
   "metadata": {},
   "outputs": [],
   "source": [
    "b_bucket_10 = shift_curve(b, bp=1e-4, swaps=False)\n",
    "\n",
    "b_bucket_10.swaps.loc[:pd.Timestamp('2033-02-02')] = b.swaps[:pd.Timestamp('2033-02-02')] + 0.0001\n",
    "weights_10y = [(3-(1/5)*(anno+10))*0.0001 for anno in range(6)]\n",
    "\n",
    "b_bucket_10.swaps[pd.Timestamp('2033-02-02'):pd.Timestamp('2038-02-02')] = (b.swaps[pd.Timestamp('2033-02-02'):pd.Timestamp('2038-02-02')].T + [weights_10y[i] for i in [0,1,2,5]]).T\n",
    "\n",
    "_, discounts_bucket_10 = b_bucket_10.fit()\n",
    "discount_factors_buck_10 = pd.Series(discounts_bucket_10, index=dates)"
   ]
  },
  {
   "cell_type": "code",
   "execution_count": 15,
   "metadata": {},
   "outputs": [
    {
     "name": "stdout",
     "output_type": "stream",
     "text": [
      "Portfolio BUCK_10: €559,114.34\n"
     ]
    }
   ],
   "source": [
    "# Q5: Coarse-Grained Bucket DV01\n",
    "# Re-evaluate swaption price\n",
    "\n",
    "fwd_swap_buck_10 = swap_par_rate(\n",
    "    swaption_underlying_fixed_leg_schedule[1:],\n",
    "    discount_factors_buck_10,\n",
    "    swaption_underlying_fixed_leg_schedule[0],\n",
    ")\n",
    "\n",
    "swaption_price_buck_10, delta_up = swaption_price_calculator(\n",
    "    fwd_swap_buck_10, # ERROR FWD_SWAP_RATE\n",
    "    strike,\n",
    "    today,\n",
    "    swaption_expiry,\n",
    "    underlying_expiry,\n",
    "    sigma_black,\n",
    "    swaption_fixed_leg_freq,\n",
    "    discount_factors_buck_10,\n",
    "    swaption_type,\n",
    "    compute_delta=True\n",
    ")\n",
    "\n",
    "# Swap shocked MtM\n",
    "irs_mtm_buck_10 = swap_mtm(irs_rate_10y, irs_fixed_leg_payment_dates, discount_factors_buck_10)\n",
    "\n",
    "# Portfolio shocked MtM\n",
    "ptf_mtm_buck_10 = swaption_notional * swaption_price_buck_10 + irs_notional * irs_mtm_buck_10\n",
    "\n",
    "# DV01\n",
    "ptf_numeric_buck_10 = ptf_mtm_buck_10 - ptf_mtm\n",
    "\n",
    "print(f\"Portfolio BUCK_10: €{ptf_numeric_buck_10:,.2f}\")"
   ]
  },
  {
   "cell_type": "markdown",
   "metadata": {},
   "source": [
    "We repeate the same procedure, but the 15 year maturity"
   ]
  },
  {
   "cell_type": "code",
   "execution_count": 16,
   "metadata": {},
   "outputs": [],
   "source": [
    "b_bucket_15 = shift_curve(b, bp=1e-4, depos=False, futures=False, swaps=False)\n",
    "\n",
    "weights_15y = [(-2+(1/5)*(anno+10))*0.0001 for anno in range(6)]\n",
    "b_bucket_15.swaps.values[8:11,0] = b.swaps.values[8:11,0] + weights_15y[:3]\n",
    "b_bucket_15.swaps.values[8:11,1] = b.swaps.values[8:11,1] + weights_15y[0:3]\n",
    "\n",
    "b_bucket_15.swaps.values[11:] = b.swaps.values[11:] + 0.0001\n",
    "\n",
    "\n",
    "_, discounts_bucket_15 = b_bucket_15.fit()\n",
    "discount_factors_buck_15= pd.Series(discounts_bucket_15, index=dates)"
   ]
  },
  {
   "cell_type": "code",
   "execution_count": 17,
   "metadata": {},
   "outputs": [
    {
     "name": "stdout",
     "output_type": "stream",
     "text": [
      "Portfolio BUCK_15: €-140,977.46\n"
     ]
    }
   ],
   "source": [
    "fwd_swap_buck_15 = swap_par_rate(\n",
    "    swaption_underlying_fixed_leg_schedule[1:],\n",
    "    discount_factors_buck_15,\n",
    "    swaption_underlying_fixed_leg_schedule[0],\n",
    ")\n",
    "\n",
    "swaption_price_buck_15, delta_up = swaption_price_calculator(\n",
    "    fwd_swap_buck_15, # ERROR FWD_SWAP_RATE\n",
    "    strike,\n",
    "    today,\n",
    "    swaption_expiry,\n",
    "    underlying_expiry,\n",
    "    sigma_black,\n",
    "    swaption_fixed_leg_freq,\n",
    "    discount_factors_buck_15,\n",
    "    swaption_type,\n",
    "    compute_delta=True\n",
    ")\n",
    "\n",
    "# Swap shocked MtM\n",
    "irs_mtm_buck_15 = swap_mtm(irs_rate_10y, irs_fixed_leg_payment_dates, discount_factors_buck_15)\n",
    "\n",
    "# Portfolio shocked MtM\n",
    "ptf_mtm_buck_15 = swaption_notional * swaption_price_buck_15 + irs_notional * irs_mtm_buck_15\n",
    "\n",
    "# DV01\n",
    "ptf_numeric_buck_15 = ptf_mtm_buck_15 - ptf_mtm\n",
    "\n",
    "print(f\"Portfolio BUCK_15: €{ptf_numeric_buck_15:,.2f}\")"
   ]
  },
  {
   "cell_type": "markdown",
   "metadata": {},
   "source": [
    "The two bucket-DV01 have opposite signs, this reflects the fact that the two instruments which make up our portfolio, the swaption and the IRS, have different sensitivities to the interest rate curve. The IRS has a positive DV01, while the swaption has a negative one. The total DV01 is the sum of the two, so the sign of the bucket-DV01 depends on the relative weight of the two instruments in the portfolio. The sum of the two bucket-DV01 is the total DV01 of the portfolio, which we have already computed."
   ]
  },
  {
   "cell_type": "code",
   "execution_count": 18,
   "metadata": {},
   "outputs": [
    {
     "name": "stdout",
     "output_type": "stream",
     "text": [
      "Sum of the two buckets: 418136.87547539175\n"
     ]
    }
   ],
   "source": [
    "print(f\"Sum of the two buckets: {ptf_numeric_buck_10+ptf_numeric_buck_15}\")"
   ]
  },
  {
   "cell_type": "markdown",
   "metadata": {},
   "source": [
    "### 6. Delta-Hedge with 10y and 15y IRS\n",
    "\n",
    "Instead of hedging the portfolio with one just IRS, like we did in point 4, we use two different instruments. The most convenient choice is to pick a $10y$ and a $15y$ IRS, because of the reason mentioned above: in fact, we have proven that our portfolio behaves differently in the two buckets, so it's reasonable to try to hedge the two different risk separately.\n",
    "\n",
    "With two instruments, we have the freedom to select the relative weights. We take the weight of the $10y$ IRS to be exactly opposite to the $10y$ IRS notional of our portfolio, so that our net exporsure on that instrument is null.\n",
    "\n",
    "The weight of the $15y$ IRS is then determined imposing that the total DV01 is zero"
   ]
  },
  {
   "cell_type": "code",
   "execution_count": 19,
   "metadata": {},
   "outputs": [
    {
     "name": "stdout",
     "output_type": "stream",
     "text": [
      "10y IRS notional: -€600,000,000\n",
      "15y IRS notional: €81,000,000\n"
     ]
    }
   ],
   "source": [
    "# Q6: Delta hedging w/ two IRS\n",
    "# IRS notionals\n",
    "\n",
    "notional_10y = irs_notional\n",
    "\n",
    "irs_15y_dates = date_series(today, business_date_offset(today, year_offset=15), irs_fixed_leg_freq)[1:]\n",
    "irs_rate_15y = swap_par_rate(irs_15y_dates, discount_factors)\n",
    "\n",
    "irs_15y_mtm = swap_mtm(irs_rate_15y, irs_15y_dates, discount_factors_up)\n",
    "\n",
    "DV01_15y = irs_15y_mtm - 0\n",
    "\n",
    "notional_15y = -DV01_swaption*swaption_notional/DV01_15y\n",
    "\n",
    "# min_lots is 1M\n",
    "notional_10y = np.round(notional_10y/min_lot)*min_lot\n",
    "notional_15y = np.round(notional_15y/min_lot)*min_lot\n",
    "\n",
    "print(f\"10y IRS notional: -€{notional_10y:,.0f}\")\n",
    "print(f\"15y IRS notional: €{notional_15y:,.0f}\")"
   ]
  },
  {
   "cell_type": "markdown",
   "metadata": {},
   "source": [
    "Now we re-evaluate the coarsed-grained buckets for $10y$ and $15y$. Since the two positions on the swap cancel each other, we don't consider them anymore"
   ]
  },
  {
   "cell_type": "code",
   "execution_count": 20,
   "metadata": {},
   "outputs": [
    {
     "name": "stdout",
     "output_type": "stream",
     "text": [
      "Portfolio BUCK_10: €44,145.15\n"
     ]
    }
   ],
   "source": [
    "# Q6: Delta hedging w/ two IRS\n",
    "# Bucket DV01 10y\n",
    "\n",
    "# Swap shocked MtM\n",
    "irs15y_mtm_buck_10 = swap_mtm(irs_rate_15y, irs_15y_dates, discount_factors_buck_10)\n",
    "\n",
    "# Portfolio shocked MtM\n",
    "ptf_mtm_buck_10 = swaption_notional * swaption_price_buck_10 + notional_15y * irs15y_mtm_buck_10\n",
    "\n",
    "# DV01\n",
    "ptf_numeric_buck_10 = ptf_mtm_buck_10 - ptf_mtm\n",
    "\n",
    "print(f\"Portfolio BUCK_10: €{ptf_numeric_buck_10:,.2f}\")"
   ]
  },
  {
   "cell_type": "code",
   "execution_count": 21,
   "metadata": {},
   "outputs": [
    {
     "name": "stdout",
     "output_type": "stream",
     "text": [
      "Portfolio BUCK_15: €-43,457.90\n"
     ]
    }
   ],
   "source": [
    "# Q6: Delta hedging w/ two IRS\n",
    "# Bucket DV01 15y\n",
    "\n",
    "# Swap shocked MtM\n",
    "irs15y_mtm_buck_15 = swap_mtm(irs_rate_15y, irs_15y_dates, discount_factors_buck_15)\n",
    "\n",
    "# Portfolio shocked MtM\n",
    "ptf_mtm_buck_15 = swaption_notional * swaption_price_buck_15 + notional_15y * irs15y_mtm_buck_15\n",
    "\n",
    "# DV01\n",
    "ptf_numeric_buck_15 = ptf_mtm_buck_15 - ptf_mtm\n",
    "\n",
    "print(f\"Portfolio BUCK_15: €{ptf_numeric_buck_15:,.2f}\")"
   ]
  },
  {
   "cell_type": "markdown",
   "metadata": {},
   "source": [
    "Again, the sum of the two bucket-DV01 is the total DV01 of the portfolio, which, since the portfolio is perfeclty hedge, is pratically zero."
   ]
  },
  {
   "cell_type": "code",
   "execution_count": 22,
   "metadata": {},
   "outputs": [
    {
     "name": "stdout",
     "output_type": "stream",
     "text": [
      "DV01 Portfolio: 687.26\n"
     ]
    }
   ],
   "source": [
    "print(f\"DV01 Portfolio: {ptf_numeric_buck_10+ptf_numeric_buck_15:,.2f}\")"
   ]
  },
  {
   "cell_type": "markdown",
   "metadata": {},
   "source": [
    "### 7. Curve steepening scenario\n",
    "\n",
    "We consider a market scenario in which the $10y$ rates decreases by $1bp$, while the $15y$ rates increases by $1bp$. We carry out the Profit&Loss (PnL) computation for the hedged portfolio described before"
   ]
  },
  {
   "cell_type": "code",
   "execution_count": 26,
   "metadata": {},
   "outputs": [],
   "source": [
    "# Q7: Curve Steepener\n",
    "# Bootstrap after a shock on market rates\n",
    "\n",
    "bp = 1e-4\n",
    "b_steep = Bootstrap.from_xls(\"MktData_CurveBootstrap.xls\")\n",
    "b_steep.swaps.loc[pd.Timestamp('02-Feb-2033')] -= bp\n",
    "b_steep.swaps.loc[pd.Timestamp('02-Feb-2038')] += bp\n",
    "\n",
    "_, discounts_steep = b_steep.fit()\n",
    "discounts_steep = pd.Series(discounts_steep, index=dates)"
   ]
  },
  {
   "cell_type": "code",
   "execution_count": 27,
   "metadata": {},
   "outputs": [
    {
     "name": "stdout",
     "output_type": "stream",
     "text": [
      "Swaption: 56883339.5877602\n",
      "IRS: -515282.93425233685\n",
      "P&L: -694,660.77\n"
     ]
    }
   ],
   "source": [
    "# Q7: Curve Steepening\n",
    "# Re-evaluate swaption price and IRS mtm\n",
    "\n",
    "\n",
    "# First portfolio: 10y IRS\n",
    "\n",
    "ptf_0 = swaption_notional * swaption_price + 0     # pre shock\n",
    "\n",
    "fwd_swap_rate_1 = swap_par_rate(\n",
    "    swaption_underlying_fixed_leg_schedule[1:],\n",
    "    discounts_steep,\n",
    "    swaption_underlying_fixed_leg_schedule[0],\n",
    ")\n",
    "swaption_price_1, delta_1 = swaption_price_calculator(\n",
    "    fwd_swap_rate_1,\n",
    "    strike,\n",
    "    today,\n",
    "    swaption_expiry,\n",
    "    underlying_expiry,\n",
    "    sigma_black,\n",
    "    swaption_fixed_leg_freq,\n",
    "    discounts_steep,\n",
    "    swaption_type,\n",
    "    compute_delta=True\n",
    ")\n",
    "\n",
    "irs_mtm_1 = swap_mtm(irs_rate_10y, irs_fixed_leg_payment_dates, discounts_steep)\n",
    "\n",
    "print(f\"Swaption: {swaption_notional * swaption_price_1}\")\n",
    "print(f\"IRS: {irs_notional * irs_mtm_1}\")\n",
    "\n",
    "ptf_1 = swaption_notional * swaption_price_1 + irs_notional * irs_mtm_1\n",
    "\n",
    "print(f'P&L: {ptf_1-ptf_0:,.2f}')"
   ]
  },
  {
   "cell_type": "code",
   "execution_count": 28,
   "metadata": {},
   "outputs": [
    {
     "name": "stdout",
     "output_type": "stream",
     "text": [
      "Swaption: 56883339.5877602\n",
      "IRS: 97536.2081717866\n",
      "P&L: -81,841.63\n"
     ]
    }
   ],
   "source": [
    "# Q7: Curve Steepening\n",
    "# Re-evaluate swaption price and IRS mtm\n",
    "\n",
    "\n",
    "# Second portfolio: 10y IRS + 15y IRS\n",
    "ptf_0 = swaption_notional * swaption_price + 0\n",
    "\n",
    "fwd_swap_rate_2 = swap_par_rate(\n",
    "    swaption_underlying_fixed_leg_schedule[1:],\n",
    "    discounts_steep,\n",
    "    swaption_underlying_fixed_leg_schedule[0],\n",
    ")\n",
    "swaption_price_2, delta_2 = swaption_price_calculator(\n",
    "    fwd_swap_rate_2,\n",
    "    strike,\n",
    "    today,\n",
    "    swaption_expiry,\n",
    "    underlying_expiry,\n",
    "    sigma_black,\n",
    "    swaption_fixed_leg_freq,\n",
    "    discounts_steep,\n",
    "    swaption_type,\n",
    "    compute_delta=True\n",
    ")\n",
    "\n",
    "irs_mtm_2 = swap_mtm(irs_rate_15y, irs_15y_dates, discounts_steep)\n",
    "\n",
    "print(f\"Swaption: {swaption_notional * swaption_price_2}\")\n",
    "print(f\"IRS: {notional_15y * irs_mtm_2}\")\n",
    "\n",
    "ptf_2 = swaption_notional * swaption_price_2 + notional_15y * irs_mtm_2\n",
    "\n",
    "print(f'P&L: {ptf_2-ptf_0:,.2f}')"
   ]
  },
  {
   "cell_type": "markdown",
   "metadata": {},
   "source": [
    "Between the two, the latter is way less sensisitive to a curve steepening. This was somewhat expected because the portfolio with two instruments is almost perfectly hedged, with a DV01 very close to zero. "
   ]
  }
 ],
 "metadata": {
  "kernelspec": {
   "display_name": "base",
   "language": "python",
   "name": "python3"
  },
  "language_info": {
   "codemirror_mode": {
    "name": "ipython",
    "version": 3
   },
   "file_extension": ".py",
   "mimetype": "text/x-python",
   "name": "python",
   "nbconvert_exporter": "python",
   "pygments_lexer": "ipython3",
   "version": "3.12.3"
  }
 },
 "nbformat": 4,
 "nbformat_minor": 2
}
