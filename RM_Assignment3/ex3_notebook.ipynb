{
 "cells": [
  {
   "cell_type": "markdown",
   "metadata": {},
   "source": [
    "# Mathematical Engineering - Financial Engineering, FY 2024-2025\n",
    "# Risk Management - Exercise 3: Equity Portfolio VaR/ES and Counterparty Risk"
   ]
  },
  {
   "cell_type": "code",
   "execution_count": 11,
   "metadata": {},
   "outputs": [],
   "source": [
    "# Importing libraries and loading data\n",
    "import os\n",
    "import numpy as np\n",
    "import pandas as pd\n",
    "from pathlib import Path\n",
    "\n",
    "import matplotlib.pyplot as plt\n",
    "from dateutil.relativedelta import relativedelta\n",
    "\n",
    "from utilities.ex1_utilities import (\n",
    "    business_date_offset,\n",
    "    year_frac_act_x,\n",
    "    get_discount_factor_by_zero_rates_linear_interp,\n",
    ")\n",
    "from utilities.ex3_utilities import (\n",
    "    gaussian_var_es,\n",
    "    hs_var_es,\n",
    "    principal_component_analysis,\n",
    "    plausility_check,\n",
    "    black_scholes_option_pricer,\n",
    ")\n",
    "\n",
    "# ETL\n",
    "prices = pd.read_csv(\"sx5e_underlyings.csv\")\n",
    "tickers_df = pd.read_csv(\"ticker_details.csv\")"
   ]
  },
  {
   "cell_type": "markdown",
   "metadata": {},
   "source": [
    "The relevant data is loaded into the `prices` and `tickers_df` pandas dataframes. They collect a total a $50$ shares, reporting the prices from \"2023-01-02\" to \"2023-02-17\". We set the date as index of the prices dataframe"
   ]
  },
  {
   "cell_type": "code",
   "execution_count": 12,
   "metadata": {},
   "outputs": [
    {
     "data": {
      "text/html": [
       "<div>\n",
       "<style scoped>\n",
       "    .dataframe tbody tr th:only-of-type {\n",
       "        vertical-align: middle;\n",
       "    }\n",
       "\n",
       "    .dataframe tbody tr th {\n",
       "        vertical-align: top;\n",
       "    }\n",
       "\n",
       "    .dataframe thead th {\n",
       "        text-align: right;\n",
       "    }\n",
       "</style>\n",
       "<table border=\"1\" class=\"dataframe\">\n",
       "  <thead>\n",
       "    <tr style=\"text-align: right;\">\n",
       "      <th></th>\n",
       "      <th>Ticker</th>\n",
       "      <th>Name</th>\n",
       "    </tr>\n",
       "  </thead>\n",
       "  <tbody>\n",
       "    <tr>\n",
       "      <th>0</th>\n",
       "      <td>ABI.BR</td>\n",
       "      <td>Anheuser-Busch InBev</td>\n",
       "    </tr>\n",
       "    <tr>\n",
       "      <th>1</th>\n",
       "      <td>AD.AS</td>\n",
       "      <td>Ahold Delhaize</td>\n",
       "    </tr>\n",
       "    <tr>\n",
       "      <th>2</th>\n",
       "      <td>ADSGn.DE</td>\n",
       "      <td>Adidas</td>\n",
       "    </tr>\n",
       "    <tr>\n",
       "      <th>3</th>\n",
       "      <td>ADYEN.AS</td>\n",
       "      <td>Adyen</td>\n",
       "    </tr>\n",
       "    <tr>\n",
       "      <th>4</th>\n",
       "      <td>AIR.PA</td>\n",
       "      <td>Airbus</td>\n",
       "    </tr>\n",
       "  </tbody>\n",
       "</table>\n",
       "</div>"
      ],
      "text/plain": [
       "     Ticker                  Name\n",
       "0    ABI.BR  Anheuser-Busch InBev\n",
       "1     AD.AS        Ahold Delhaize\n",
       "2  ADSGn.DE                Adidas\n",
       "3  ADYEN.AS                 Adyen\n",
       "4    AIR.PA                Airbus"
      ]
     },
     "execution_count": 12,
     "metadata": {},
     "output_type": "execute_result"
    }
   ],
   "source": [
    "tickers_df.drop(\"0\", inplace=True, axis=1)\n",
    "tickers_df.head()"
   ]
  },
  {
   "cell_type": "code",
   "execution_count": 13,
   "metadata": {},
   "outputs": [
    {
     "data": {
      "text/html": [
       "<div>\n",
       "<style scoped>\n",
       "    .dataframe tbody tr th:only-of-type {\n",
       "        vertical-align: middle;\n",
       "    }\n",
       "\n",
       "    .dataframe tbody tr th {\n",
       "        vertical-align: top;\n",
       "    }\n",
       "\n",
       "    .dataframe thead th {\n",
       "        text-align: right;\n",
       "    }\n",
       "</style>\n",
       "<table border=\"1\" class=\"dataframe\">\n",
       "  <thead>\n",
       "    <tr style=\"text-align: right;\">\n",
       "      <th></th>\n",
       "      <th>ABI.BR</th>\n",
       "      <th>AD.AS</th>\n",
       "      <th>ADSGn.DE</th>\n",
       "      <th>ADYEN.AS</th>\n",
       "      <th>AIR.PA</th>\n",
       "      <th>AIRP.PA</th>\n",
       "      <th>ALVG.DE</th>\n",
       "      <th>ASML.AS</th>\n",
       "      <th>AXAF.PA</th>\n",
       "      <th>BASFn.DE</th>\n",
       "      <th>...</th>\n",
       "      <th>SAN.MC</th>\n",
       "      <th>SAPG.DE</th>\n",
       "      <th>SASY.PA</th>\n",
       "      <th>SCHN.PA</th>\n",
       "      <th>SGEF.PA</th>\n",
       "      <th>SIEGn.DE</th>\n",
       "      <th>STLAM.MI</th>\n",
       "      <th>TTEF.PA</th>\n",
       "      <th>VNAn.DE</th>\n",
       "      <th>VOWG_p.DE</th>\n",
       "    </tr>\n",
       "    <tr>\n",
       "      <th>Date</th>\n",
       "      <th></th>\n",
       "      <th></th>\n",
       "      <th></th>\n",
       "      <th></th>\n",
       "      <th></th>\n",
       "      <th></th>\n",
       "      <th></th>\n",
       "      <th></th>\n",
       "      <th></th>\n",
       "      <th></th>\n",
       "      <th></th>\n",
       "      <th></th>\n",
       "      <th></th>\n",
       "      <th></th>\n",
       "      <th></th>\n",
       "      <th></th>\n",
       "      <th></th>\n",
       "      <th></th>\n",
       "      <th></th>\n",
       "      <th></th>\n",
       "      <th></th>\n",
       "    </tr>\n",
       "  </thead>\n",
       "  <tbody>\n",
       "    <tr>\n",
       "      <th>2013-01-02</th>\n",
       "      <td>67.35</td>\n",
       "      <td>10.344663</td>\n",
       "      <td>67.48</td>\n",
       "      <td>NaN</td>\n",
       "      <td>30.065</td>\n",
       "      <td>63.872086</td>\n",
       "      <td>108.30</td>\n",
       "      <td>50.170</td>\n",
       "      <td>13.810</td>\n",
       "      <td>73.18</td>\n",
       "      <td>...</td>\n",
       "      <td>4.642466</td>\n",
       "      <td>61.740795</td>\n",
       "      <td>72.619232</td>\n",
       "      <td>56.69</td>\n",
       "      <td>36.477679</td>\n",
       "      <td>73.202953</td>\n",
       "      <td>1.859794</td>\n",
       "      <td>39.975</td>\n",
       "      <td>NaN</td>\n",
       "      <td>179.00</td>\n",
       "    </tr>\n",
       "    <tr>\n",
       "      <th>2013-01-03</th>\n",
       "      <td>66.54</td>\n",
       "      <td>10.344663</td>\n",
       "      <td>67.18</td>\n",
       "      <td>NaN</td>\n",
       "      <td>30.200</td>\n",
       "      <td>63.433011</td>\n",
       "      <td>108.00</td>\n",
       "      <td>50.340</td>\n",
       "      <td>13.825</td>\n",
       "      <td>72.35</td>\n",
       "      <td>...</td>\n",
       "      <td>4.626329</td>\n",
       "      <td>61.661232</td>\n",
       "      <td>72.430223</td>\n",
       "      <td>56.45</td>\n",
       "      <td>36.636105</td>\n",
       "      <td>73.255365</td>\n",
       "      <td>1.886567</td>\n",
       "      <td>39.855</td>\n",
       "      <td>NaN</td>\n",
       "      <td>178.90</td>\n",
       "    </tr>\n",
       "    <tr>\n",
       "      <th>2013-01-04</th>\n",
       "      <td>67.62</td>\n",
       "      <td>10.465124</td>\n",
       "      <td>66.72</td>\n",
       "      <td>NaN</td>\n",
       "      <td>30.800</td>\n",
       "      <td>63.499538</td>\n",
       "      <td>108.20</td>\n",
       "      <td>49.755</td>\n",
       "      <td>13.865</td>\n",
       "      <td>72.47</td>\n",
       "      <td>...</td>\n",
       "      <td>4.643200</td>\n",
       "      <td>61.134128</td>\n",
       "      <td>73.285737</td>\n",
       "      <td>56.43</td>\n",
       "      <td>36.754925</td>\n",
       "      <td>73.316513</td>\n",
       "      <td>1.917165</td>\n",
       "      <td>39.820</td>\n",
       "      <td>NaN</td>\n",
       "      <td>178.85</td>\n",
       "    </tr>\n",
       "    <tr>\n",
       "      <th>2013-01-07</th>\n",
       "      <td>66.93</td>\n",
       "      <td>10.530375</td>\n",
       "      <td>66.28</td>\n",
       "      <td>NaN</td>\n",
       "      <td>30.750</td>\n",
       "      <td>62.973979</td>\n",
       "      <td>107.70</td>\n",
       "      <td>48.750</td>\n",
       "      <td>13.905</td>\n",
       "      <td>71.64</td>\n",
       "      <td>...</td>\n",
       "      <td>4.637332</td>\n",
       "      <td>60.616969</td>\n",
       "      <td>72.997250</td>\n",
       "      <td>56.10</td>\n",
       "      <td>36.403416</td>\n",
       "      <td>73.045715</td>\n",
       "      <td>1.919078</td>\n",
       "      <td>39.155</td>\n",
       "      <td>NaN</td>\n",
       "      <td>175.95</td>\n",
       "    </tr>\n",
       "    <tr>\n",
       "      <th>2013-01-08</th>\n",
       "      <td>65.90</td>\n",
       "      <td>10.460105</td>\n",
       "      <td>66.36</td>\n",
       "      <td>NaN</td>\n",
       "      <td>30.925</td>\n",
       "      <td>62.767747</td>\n",
       "      <td>107.05</td>\n",
       "      <td>48.220</td>\n",
       "      <td>13.575</td>\n",
       "      <td>71.14</td>\n",
       "      <td>...</td>\n",
       "      <td>4.650535</td>\n",
       "      <td>60.318608</td>\n",
       "      <td>73.365320</td>\n",
       "      <td>56.12</td>\n",
       "      <td>36.304400</td>\n",
       "      <td>72.556530</td>\n",
       "      <td>1.895173</td>\n",
       "      <td>39.385</td>\n",
       "      <td>NaN</td>\n",
       "      <td>174.00</td>\n",
       "    </tr>\n",
       "  </tbody>\n",
       "</table>\n",
       "<p>5 rows × 50 columns</p>\n",
       "</div>"
      ],
      "text/plain": [
       "            ABI.BR      AD.AS  ADSGn.DE  ADYEN.AS  AIR.PA    AIRP.PA  ALVG.DE  \\\n",
       "Date                                                                            \n",
       "2013-01-02   67.35  10.344663     67.48       NaN  30.065  63.872086   108.30   \n",
       "2013-01-03   66.54  10.344663     67.18       NaN  30.200  63.433011   108.00   \n",
       "2013-01-04   67.62  10.465124     66.72       NaN  30.800  63.499538   108.20   \n",
       "2013-01-07   66.93  10.530375     66.28       NaN  30.750  62.973979   107.70   \n",
       "2013-01-08   65.90  10.460105     66.36       NaN  30.925  62.767747   107.05   \n",
       "\n",
       "            ASML.AS  AXAF.PA  BASFn.DE  ...    SAN.MC    SAPG.DE    SASY.PA  \\\n",
       "Date                                    ...                                   \n",
       "2013-01-02   50.170   13.810     73.18  ...  4.642466  61.740795  72.619232   \n",
       "2013-01-03   50.340   13.825     72.35  ...  4.626329  61.661232  72.430223   \n",
       "2013-01-04   49.755   13.865     72.47  ...  4.643200  61.134128  73.285737   \n",
       "2013-01-07   48.750   13.905     71.64  ...  4.637332  60.616969  72.997250   \n",
       "2013-01-08   48.220   13.575     71.14  ...  4.650535  60.318608  73.365320   \n",
       "\n",
       "            SCHN.PA    SGEF.PA   SIEGn.DE  STLAM.MI  TTEF.PA  VNAn.DE  \\\n",
       "Date                                                                    \n",
       "2013-01-02    56.69  36.477679  73.202953  1.859794   39.975      NaN   \n",
       "2013-01-03    56.45  36.636105  73.255365  1.886567   39.855      NaN   \n",
       "2013-01-04    56.43  36.754925  73.316513  1.917165   39.820      NaN   \n",
       "2013-01-07    56.10  36.403416  73.045715  1.919078   39.155      NaN   \n",
       "2013-01-08    56.12  36.304400  72.556530  1.895173   39.385      NaN   \n",
       "\n",
       "            VOWG_p.DE  \n",
       "Date                   \n",
       "2013-01-02     179.00  \n",
       "2013-01-03     178.90  \n",
       "2013-01-04     178.85  \n",
       "2013-01-07     175.95  \n",
       "2013-01-08     174.00  \n",
       "\n",
       "[5 rows x 50 columns]"
      ]
     },
     "execution_count": 13,
     "metadata": {},
     "output_type": "execute_result"
    }
   ],
   "source": [
    "prices.index = pd.to_datetime(prices[\"Date\"])\n",
    "prices.drop(columns=[\"Date\"], axis=1,inplace=True)\n",
    "prices.head()"
   ]
  },
  {
   "cell_type": "markdown",
   "metadata": {},
   "source": [
    "## Case Study 1: VaR and ES via parametric and non-parametric approaches"
   ]
  },
  {
   "cell_type": "markdown",
   "metadata": {},
   "source": [
    "We compute the *VaR* and the *ES* of four different portfolios, at the date \"2020-01-31\". We set a confidence level $\\alpha = 0.95$. First we compute the log returns of each stock, using a backward filling methods to fill the missing values"
   ]
  },
  {
   "cell_type": "code",
   "execution_count": 14,
   "metadata": {},
   "outputs": [],
   "source": [
    "date = pd.Timestamp(2020, 1, 31)\n",
    "alpha = 0.95  # Significance level\n",
    "\n",
    "log_returns = np.log(prices).diff()\n",
    "log_returns.index = pd.to_datetime(log_returns.index)\n",
    "log_returns.bfill(inplace=True)"
   ]
  },
  {
   "cell_type": "markdown",
   "metadata": {},
   "source": [
    "The first portfolio we consider is made up of $5$ stocks: BMW, BNP, Danone, Nokia and Total. The notional of the portfolio is $25Mln$ and each stock has the same weight. We estimate our daily risk measures with respect to a $4$ year time horizon"
   ]
  },
  {
   "cell_type": "code",
   "execution_count": 15,
   "metadata": {},
   "outputs": [],
   "source": [
    "# Case Study 1 - Q1: Compute daily VaR and ES with a 4y estimation using the dataset provided via Gaussian\n",
    "# parametric approach.\n",
    "\n",
    "# Parameters\n",
    "time_horizon1 = 4  # In years\n",
    "ptf_notional = 25e6  # In euros\n",
    "\n",
    "start_date1 = date - relativedelta(years=time_horizon1)\n",
    "\n",
    "portfolio1_stocks = [\"BMW\", \"BNP Paribas\", \"Danone\", \"Nokia\", \"TotalEnergies\"]\n",
    "portfolio1_stocks = tickers_df[tickers_df[\"Name\"].isin(portfolio1_stocks)][\"Ticker\"].values"
   ]
  },
  {
   "cell_type": "code",
   "execution_count": 16,
   "metadata": {},
   "outputs": [],
   "source": [
    "# Case Study 1 - Q1\n",
    "\n",
    "weights = 1/5 * pd.Series([1, 1, 1, 1, 1], index=portfolio1_stocks)\n",
    "\n",
    "mu = log_returns.loc[start_date1:date, weights.index].mean()\n",
    "sigma = log_returns.loc[start_date1:date, weights.index].cov()"
   ]
  },
  {
   "cell_type": "markdown",
   "metadata": {},
   "source": [
    "To compute the *VaR* and the *ES*, we use a parametric gaussian approach, implemented in the `gaussian_var_es` method, which can be found in the `ex3_utilities.py` file."
   ]
  },
  {
   "cell_type": "code",
   "execution_count": 17,
   "metadata": {},
   "outputs": [
    {
     "name": "stdout",
     "output_type": "stream",
     "text": [
      "Case Study 1 - Q1: Gaussian VaR: €412,698.58536, ES: €517,873.58175\n"
     ]
    }
   ],
   "source": [
    "# Case Study 1 - Q1\n",
    "\n",
    "VaR_1, ES_1 = gaussian_var_es(mu, sigma, alpha, weights, ptf_notional)\n",
    "print(f\"Case Study 1 - Q1: Gaussian VaR: €{VaR_1:,.5f}, ES: €{ES_1:,.5f}\")"
   ]
  },
  {
   "cell_type": "markdown",
   "metadata": {},
   "source": [
    "The second portfolio is relative to Adidas, Allianz, ASML and Deutsche Boerse. The stocks are no longer equally weighted, but bought in different numbers. Also, we estimate over a time horizon of just $3$ years"
   ]
  },
  {
   "cell_type": "code",
   "execution_count": 18,
   "metadata": {},
   "outputs": [],
   "source": [
    "# Case Study 1 - Q2: Historical Simulation and Bootstrap\n",
    "time_horizon2 = 3\n",
    "\n",
    "start_date2 = date - relativedelta(years=time_horizon2)\n",
    "\n",
    "portfolio2_stocks = [\"Adidas\", \"Allianz\", \"ASML\", \"Deutsche Boerse\"]\n",
    "portfolio2_stocks = tickers_df[tickers_df[\"Name\"].isin(portfolio2_stocks)][\"Ticker\"].values"
   ]
  },
  {
   "cell_type": "code",
   "execution_count": 19,
   "metadata": {},
   "outputs": [],
   "source": [
    "shares_num = pd.Series([25e3, 20e3, 20e3, 10e3], index=portfolio2_stocks)\n",
    "ptf2_notional = sum(shares_num * prices.loc[date, portfolio2_stocks].values)\n",
    "\n",
    "weights2 = (shares_num * prices.loc[date, portfolio2_stocks]) / ptf2_notional"
   ]
  },
  {
   "cell_type": "markdown",
   "metadata": {},
   "source": [
    "We employ two different non-parametric techniques: historical simulation $(HS)$ and the bootstrap. The latter requires to randomly sample losses historical losses, using the built in pandas function `df.sample(n, replace=True)`. Notice that the sampling procedure is taken with replacement. For reproducibility, we set the random seed. "
   ]
  },
  {
   "cell_type": "code",
   "execution_count": 20,
   "metadata": {},
   "outputs": [
    {
     "name": "stdout",
     "output_type": "stream",
     "text": [
      "Case Study 1 - Q2: HS VaR: €317,030.85, ES: €469,965.40\n",
      "Case Study 1 - Q2: Bootstrap VaR: €310,549.79, ES: €495,486.10€\n"
     ]
    }
   ],
   "source": [
    "returns2 = log_returns.loc[start_date2:date, weights2.index]\n",
    "\n",
    "# HS\n",
    "VaR_2, ES_2 = hs_var_es(returns2, alpha, weights2, ptf2_notional)\n",
    "print(f\"Case Study 1 - Q2: HS VaR: €{VaR_2:,.2f}, ES: €{ES_2:,.2f}\")\n",
    "\n",
    "np.random.seed(42)\n",
    "\n",
    "# Bootstrap\n",
    "simulations_num = 300\n",
    "VaR_2_bootstrap, ES_2_bootstrap = hs_var_es(\n",
    "    returns2.sample(simulations_num, replace=True),\n",
    "    alpha,\n",
    "    weights2,\n",
    "    ptf2_notional,\n",
    ")\n",
    "print(\n",
    "    f\"Case Study 1 - Q2: Bootstrap VaR: €{VaR_2_bootstrap:,.2f}, ES: €{ES_2_bootstrap:,.2f}€\"\n",
    ")"
   ]
  },
  {
   "cell_type": "markdown",
   "metadata": {},
   "source": [
    "For our third portfolio, we use a *Weighted Historical Simulation*, using a decay coefficient $\\lambda = 0.95$. "
   ]
  },
  {
   "cell_type": "code",
   "execution_count": 21,
   "metadata": {},
   "outputs": [],
   "source": [
    "# Case Study 1 - Q3: WHS\n",
    "lambda_ = 0.95\n",
    "\n",
    "portfolio3_stocks = [\"Airbus\", \"BBVA\", \"BMW\", \"Eni\", \"ING Group\", \"Schneider Electric\"]\n",
    "portfolio3_stocks = tickers_df[tickers_df[\"Name\"].isin(portfolio3_stocks)][\"Ticker\"].values\n",
    "weights3 = 1/6*pd.Series([1, 1, 1, 1, 1, 1], index=portfolio3_stocks)"
   ]
  },
  {
   "cell_type": "code",
   "execution_count": 22,
   "metadata": {},
   "outputs": [
    {
     "name": "stdout",
     "output_type": "stream",
     "text": [
      "Case Study 1 - Q3: WHS VaR: €1,306,917.80, ES: €2,111,448.45\n"
     ]
    }
   ],
   "source": [
    "# Case Study 1 - Q3: WHS\n",
    "\n",
    "returns3 = log_returns.loc[start_date1:date, weights3.index]\n",
    "VaR_3, ES_3 = hs_var_es(\n",
    "    returns3,\n",
    "    alpha,\n",
    "    weights3,\n",
    "    ptf_notional,\n",
    "    lambda_=lambda_,\n",
    ")\n",
    "print(f\"Case Study 1 - Q3: WHS VaR: €{VaR_3:,.2f}, ES: €{ES_3:,.2f}\")"
   ]
  },
  {
   "cell_type": "markdown",
   "metadata": {},
   "source": [
    "To check the quality of our weighted historical simulation, we compare it with a non-weighted one. As $\\lambda$ tends to $1$, we expect the two to converge on a similar number. "
   ]
  },
  {
   "cell_type": "code",
   "execution_count": 23,
   "metadata": {},
   "outputs": [
    {
     "name": "stdout",
     "output_type": "stream",
     "text": [
      "HS VaR: €456,543.71, ES: €688,054.08\n",
      "WHS VaR: €456,543.71, ES: €683,637.04\n"
     ]
    }
   ],
   "source": [
    "VaR_3, ES_3 = hs_var_es(\n",
    "    returns3,\n",
    "    alpha,\n",
    "    weights3,\n",
    "    ptf_notional,\n",
    "    lambda_=None,\n",
    ")\n",
    "\n",
    "print(f\"HS VaR: €{VaR_3:,.2f}, ES: €{ES_3:,.2f}\")\n",
    "\n",
    "VaR_3, ES_3 = hs_var_es(\n",
    "    returns3,\n",
    "    alpha,\n",
    "    weights3,\n",
    "    ptf_notional,\n",
    "    lambda_=0.99999,\n",
    ")\n",
    "\n",
    "print(f\"WHS VaR: €{VaR_3:,.2f}, ES: €{ES_3:,.2f}\")"
   ]
  },
  {
   "cell_type": "markdown",
   "metadata": {},
   "source": [
    "Lastly, we consider a much larger portfolio of $20$ equally weighted stocks, for a time interval of $\\Delta = 10$ days. Given such a high number of risk factors, it's convenient to use a dimensionality reduction technique, like *Principal Component Analysis (PCA)*. "
   ]
  },
  {
   "cell_type": "code",
   "execution_count": 24,
   "metadata": {},
   "outputs": [],
   "source": [
    "# Case Study 1 - Q4: PCA\n",
    "delta = 10\n",
    "\n",
    "tickers4 = tickers_df.loc[29:].drop(index=38)"
   ]
  },
  {
   "cell_type": "code",
   "execution_count": 25,
   "metadata": {},
   "outputs": [],
   "source": [
    "# Case Study 1 - Q4: PCA\n",
    "\n",
    "weights4 = 1/20 * pd.Series([1]*20, index=tickers4[\"Ticker\"].values)\n",
    "\n",
    "returns4 = log_returns.loc[start_date2:date, weights4.index]\n",
    "\n",
    "mu = returns4.mean()\n",
    "sigma = returns4.cov()\n",
    "corr = returns4.corr()\n",
    "\n",
    "eigenvals, eigenvecs = principal_component_analysis(sigma.values)"
   ]
  },
  {
   "cell_type": "code",
   "execution_count": 26,
   "metadata": {},
   "outputs": [],
   "source": [
    "# Case Study 1 - Q4: PCA\n",
    "# Projection on the principal component space\n",
    "\n",
    "mu_hat = eigenvecs.T @ mu\n",
    "w_hat = eigenvecs.T @ weights4"
   ]
  },
  {
   "cell_type": "markdown",
   "metadata": {},
   "source": [
    "We check our estimation for an increasing number of principal components. As will be seen below, the approximation is already precise with very few components. For a final check, we also compute the gaussian estimate using the full rank matrix, if our computations are exact, this should be exaclty equal to the last PCA estimate. "
   ]
  },
  {
   "cell_type": "code",
   "execution_count": 27,
   "metadata": {},
   "outputs": [
    {
     "name": "stdout",
     "output_type": "stream",
     "text": [
      "Case Study 1 - Q4: PCA(n=1) VaR: €1,107,326.23, ES: €1,374,810.02\n",
      "Case Study 1 - Q4: PCA(n=2) VaR: €1,121,445.33, ES: €1,390,094.29\n",
      "Case Study 1 - Q4: PCA(n=3) VaR: €1,123,472.97, ES: €1,392,165.05\n",
      "Case Study 1 - Q4: PCA(n=4) VaR: €1,119,437.33, ES: €1,388,174.19\n",
      "Case Study 1 - Q4: PCA(n=5) VaR: €1,126,268.64, ES: €1,395,630.35\n",
      "Case Study 1 - Q4: PCA(n=6) VaR: €1,125,746.94, ES: €1,395,117.48\n",
      "Case Study 1 - Q4: PCA(n=7) VaR: €1,122,905.10, ES: €1,392,314.72\n",
      "Case Study 1 - Q4: PCA(n=8) VaR: €1,123,321.39, ES: €1,392,810.60\n",
      "Case Study 1 - Q4: PCA(n=9) VaR: €1,124,151.79, ES: €1,393,769.42\n",
      "Case Study 1 - Q4: PCA(n=10) VaR: €1,124,764.75, ES: €1,394,417.27\n",
      "Case Study 1 - Q4: PCA(n=11) VaR: €1,125,142.73, ES: €1,394,796.48\n",
      "Case Study 1 - Q4: PCA(n=12) VaR: €1,125,294.22, ES: €1,394,950.36\n",
      "Case Study 1 - Q4: PCA(n=13) VaR: €1,125,058.28, ES: €1,394,715.98\n",
      "Case Study 1 - Q4: PCA(n=14) VaR: €1,125,348.82, ES: €1,395,007.00\n",
      "Case Study 1 - Q4: PCA(n=15) VaR: €1,125,346.38, ES: €1,395,010.69\n",
      "Case Study 1 - Q4: PCA(n=16) VaR: €1,125,099.95, ES: €1,394,789.66\n",
      "Case Study 1 - Q4: PCA(n=17) VaR: €1,124,254.44, ES: €1,393,961.87\n",
      "Case Study 1 - Q4: PCA(n=18) VaR: €1,124,066.78, ES: €1,393,776.09\n",
      "Case Study 1 - Q4: PCA(n=19) VaR: €1,124,596.31, ES: €1,394,308.97\n",
      "Case Study 1 - Q4: PCA(n=20) VaR: €1,124,562.02, ES: €1,394,276.85\n"
     ]
    }
   ],
   "source": [
    "pca_risk_metrics = pd.DataFrame(columns=[\"VaR\", \"ES\"])\n",
    "for n in range(1, 21):\n",
    "    VaR, ES = gaussian_var_es(\n",
    "        mu_hat[:n], np.diag(eigenvals[:n]), alpha, w_hat[:n], ptf_notional, delta\n",
    "    )\n",
    "    print(f\"Case Study 1 - Q4: PCA(n={n}) VaR: €{VaR:,.2f}, ES: €{ES:,.2f}\")\n",
    "\n",
    "    pca_risk_metrics.loc[n] = VaR, ES"
   ]
  },
  {
   "cell_type": "code",
   "execution_count": 28,
   "metadata": {},
   "outputs": [
    {
     "name": "stdout",
     "output_type": "stream",
     "text": [
      "Case Study 1 - Q4: Full rank VaR: €1,124,562.02, ES: €1,394,276.85\n"
     ]
    }
   ],
   "source": [
    "full_var, full_es = gaussian_var_es(mu, sigma, alpha, weights4, ptf_notional, delta)\n",
    "print(f\"Case Study 1 - Q4: Full rank VaR: €{VaR:,.2f}, ES: €{ES:,.2f}\")"
   ]
  },
  {
   "cell_type": "markdown",
   "metadata": {},
   "source": [
    "As mentioned above, using just the first few principal components already leads to quite spot on results. This could be expected looking at the sprectrum of the covariance matrix, shown below. The eigenvalues decay very quickly, meaning that the first few components already capture most of the variance."
   ]
  },
  {
   "cell_type": "code",
   "execution_count": 29,
   "metadata": {},
   "outputs": [
    {
     "data": {
      "image/png": "[encoded data removed]",
      "text/plain": [
       "<Figure size 1400x600 with 2 Axes>"
      ]
     },
     "metadata": {},
     "output_type": "display_data"
    }
   ],
   "source": [
    "fig, ax = plt.subplots(1, 2, figsize=(14, 6))\n",
    "\n",
    "# Plotting the eigenvalues\n",
    "ax[0].plot(range(1, n+1), eigenvals, marker='o', label='Eigenvalue', color='blue')\n",
    "ax[0].grid()\n",
    "ax[0].set_xticks(range(1, n+1))\n",
    "ax[0].legend()\n",
    "ax[0].set_title(\"Spectrum of the covariance matrix\")\n",
    "\n",
    "# Plotting the cumulative explained variance\n",
    "ax[1].plot(range(1, n+1), np.cumsum(eigenvals) / np.cumsum(eigenvals)[-1], marker='o', label='Cumulative Eigenvalue', color='red')\n",
    "ax[1].grid()\n",
    "ax[1].set_xticks(range(1, n+1))\n",
    "ax[1].legend()\n",
    "ax[1].set_title(\"Cumulative explained variance\")\n",
    "plt.show()"
   ]
  },
  {
   "cell_type": "markdown",
   "metadata": {},
   "source": [
    "Lastly, we compare our parametric and non-parametric estimates with a general rule of thumb based on a gaussian approximation. Our results are all more or less coherent with this bulpark estimate."
   ]
  },
  {
   "cell_type": "code",
   "execution_count": 30,
   "metadata": {},
   "outputs": [],
   "source": [
    "from scipy.stats import norm"
   ]
  },
  {
   "cell_type": "code",
   "execution_count": 31,
   "metadata": {},
   "outputs": [
    {
     "name": "stdout",
     "output_type": "stream",
     "text": [
      "Rule of thumb: 325154.22964392364\n",
      "Rule of thumb: 490536.9018267195\n",
      "Rule of thumb: 1061700.7671453904\n"
     ]
    }
   ],
   "source": [
    "# Case Study 1 - Q5: Plausibility check\n",
    "\n",
    "W = [weights2, weights3, weights4]\n",
    "ptfs = [ptf2_notional, ptf_notional, ptf_notional]\n",
    "start_dates = [start_date2, start_date1, start_date2]\n",
    "deltas = [1,1,10]\n",
    "\n",
    "for j, w in enumerate(W):\n",
    "    mu = log_returns.loc[start_dates[j]:date, w.index].mean()\n",
    "    sigma = log_returns.loc[start_dates[j]:date, w.index].cov()\n",
    "    C = log_returns.loc[start_dates[j]:date, w.index].corr()\n",
    "\n",
    "    sVAR = np.zeros(len(w))\n",
    "\n",
    "    for i in range(len(w)):\n",
    "        std = norm.ppf(alpha)\n",
    "        var_upper = deltas[j]*mu.iloc[i] + np.sqrt(deltas[j])*np.sqrt(sigma.iloc[i,i]) * std\n",
    "        var_lower = deltas[j]*mu.iloc[i] - np.sqrt(deltas[j])*np.sqrt(sigma.iloc[i,i]) * std\n",
    "\n",
    "        sVAR[i] =  ptfs[j] * w.iloc[i] * (abs(var_upper)+abs(var_lower))/2\n",
    "\n",
    "    print(f\"Rule of thumb: {np.sqrt(sVAR.T @ C @ sVAR)}\")"
   ]
  },
  {
   "cell_type": "markdown",
   "metadata": {},
   "source": [
    "## Case Study 2: MonteCarlo vs $\\Delta$-Normal vs $\\Delta-\\Gamma$"
   ]
  },
  {
   "cell_type": "markdown",
   "metadata": {},
   "source": [
    "In the second case study, we consider a portfolio of derivatives: in particular, we long the \"Anheuser-Busch InBev\" and its corresponding put, with strike $53$ euros and $3$ months maturity. The risk are measured using three different approachs: Full MonteCarlo, $\\Delta$-Normal and $\\Delta-\\Gamma$ approximations. The informations about discount factors and zero rates are recovered from the `bootstrap_py` library."
   ]
  },
  {
   "cell_type": "code",
   "execution_count": 32,
   "metadata": {},
   "outputs": [],
   "source": [
    "from bootstrap_py import Bootstrap"
   ]
  },
  {
   "cell_type": "code",
   "execution_count": 33,
   "metadata": {},
   "outputs": [],
   "source": [
    "b = Bootstrap.from_xls(\"MktData_CurveBootstrap.xls\")\n",
    "dates, discounts = b.fit()\n",
    "discount_factors = pd.Series(discounts, index=dates)"
   ]
  },
  {
   "cell_type": "markdown",
   "metadata": {},
   "source": [
    "First, we compute the *VaR* using a MonteCarlo procedure. Details on the option are defined below"
   ]
  },
  {
   "cell_type": "code",
   "execution_count": 34,
   "metadata": {},
   "outputs": [],
   "source": [
    "# Case Study 2 - Q1: Monte-Carlo Simulation\n",
    "# Parameters\n",
    "date = business_date_offset(pd.Timestamp(2023, 1, 31))\n",
    "\n",
    "time_horizon = 2  # In years\n",
    "\n",
    "stock_name = \"Anheuser-Busch InBev\"\n",
    "stock_notional = 5_509_000\n",
    "\n",
    "put_expiry = business_date_offset(pd.Timestamp(2023, 4, 5))\n",
    "strike = 53\n",
    "iv = 0.185  # Implied volatility\n",
    "d = 0.03  # Dividend yield\n",
    "\n",
    "delta = 10\n",
    "alpha = 0.99\n",
    "\n",
    "start_date = date - relativedelta(years=time_horizon)\n",
    "\n",
    "stock_ticker = tickers_df[tickers_df[\"Name\"] == stock_name][\"Ticker\"].values\n",
    "stock_price = prices.loc[date][stock_ticker].values[0]\n",
    "stock_number = stock_notional/stock_price\n",
    "put_number = stock_number"
   ]
  },
  {
   "cell_type": "code",
   "execution_count": 35,
   "metadata": {},
   "outputs": [],
   "source": [
    "# Case Study 2 - Q1: Monte-Carlo Simulation\n",
    "# Zero rates from the bootstrap\n",
    "\n",
    "von_log_returns = log_returns.loc[start_date:date, stock_ticker]\n",
    "\n",
    "ttm = year_frac_act_x(date, put_expiry, 365)  # Time to maturity\n",
    "\n",
    "# the maturity must be shortened by the delta\n",
    "date_delta = business_date_offset(date + relativedelta(days=delta))\n",
    "ttm_delta = year_frac_act_x(date_delta, put_expiry, 365)\n",
    "\n",
    "# Loading and interpolating zero rates\n",
    "zero_rates = b.zeroRates()\n",
    "B = get_discount_factor_by_zero_rates_linear_interp(date, put_expiry, dates, discounts)\n",
    "zero_rate = -np.log(B) / ttm"
   ]
  },
  {
   "cell_type": "markdown",
   "metadata": {},
   "source": [
    "The option is priced according to Black-Scholes formula; the pricer has `black_scholes_option_pricer()` been defined in the `ex3_utilities.py` file. The method also computes the *Delta* and the *Gamma* of the option, which will be used later in the code"
   ]
  },
  {
   "cell_type": "code",
   "execution_count": 36,
   "metadata": {},
   "outputs": [],
   "source": [
    "# Put price\n",
    "put_price, put_delta, put_gamma = black_scholes_option_pricer(\n",
    "    stock_price, strike, ttm, zero_rate, iv, d, return_delta_gamma=True\n",
    ")"
   ]
  },
  {
   "cell_type": "markdown",
   "metadata": {},
   "source": [
    "We can run $N$ simulations, sampling the risk factors from the last $2$ years log returns. Then we just update the stock and the option price."
   ]
  },
  {
   "cell_type": "code",
   "execution_count": 37,
   "metadata": {},
   "outputs": [],
   "source": [
    "N = int(1e4)\n",
    "\n",
    "returns_values = log_returns.loc[start_date:date, stock_ticker].values.flatten()  # Convert to NumPy array for speed\n",
    "\n",
    "np.random.seed(42)\n",
    "\n",
    "B2 = get_discount_factor_by_zero_rates_linear_interp(date_delta, put_expiry, dates, discounts)\n",
    "zero_rate2 = -np.log(B2) / ttm_delta\n",
    "\n",
    "risk_factor_10d = np.sum(\n",
    "    np.random.choice(returns_values, size=(N, 10), replace=True), axis=1\n",
    ")\n",
    "\n",
    "simulated_stock_prices = stock_price * np.exp(risk_factor_10d)\n",
    "\n",
    "simulated_put_prices = black_scholes_option_pricer(\n",
    "    simulated_stock_prices, strike, ttm_delta, zero_rate2, iv, d\n",
    ")"
   ]
  },
  {
   "cell_type": "markdown",
   "metadata": {},
   "source": [
    "After running the simulation, we can compute the *VaR* using an Historical Simulation, as already discussed several times. "
   ]
  },
  {
   "cell_type": "code",
   "execution_count": 38,
   "metadata": {},
   "outputs": [
    {
     "name": "stdout",
     "output_type": "stream",
     "text": [
      "Case Study 2 - Q1: Monte-Carlo VaR: €271,465.82\n"
     ]
    }
   ],
   "source": [
    "loss = (\n",
    "    -(simulated_put_prices - put_price) * put_number\n",
    "    - (simulated_stock_prices - stock_price) * stock_number\n",
    ")\n",
    "sorted_loss = sorted(\n",
    "    loss,\n",
    "    reverse=True,\n",
    ")\n",
    "\n",
    "index = np.floor((1 - alpha) * len(sorted_loss)).astype(int)\n",
    "VaR_MC = sorted_loss[index - 1]\n",
    "print(f\"Case Study 2 - Q1: Monte-Carlo VaR: €{VaR_MC:,.2f}\")"
   ]
  },
  {
   "cell_type": "markdown",
   "metadata": {},
   "source": [
    "Instead of evaluating the price of the option at every iteration, which for more complicated derivatives could be more computationally intensive often leading to other nested monte carlos, we use a $\\Delta$-Normal approximation. This is based on the Taylor expansion of the option price, which is a function of the underlying stock price."
   ]
  },
  {
   "cell_type": "code",
   "execution_count": 39,
   "metadata": {},
   "outputs": [
    {
     "name": "stdout",
     "output_type": "stream",
     "text": [
      "Case Study 2 - Q1: Monte-Carlo VaR: €462,820.46\n"
     ]
    }
   ],
   "source": [
    "# Case study 2 - Q1: Delta Normal Approach\n",
    "loss = (\n",
    "    - (put_delta * put_number + stock_number) * stock_price * risk_factor_10d\n",
    ")\n",
    "sorted_loss = sorted(\n",
    "    loss,\n",
    "    reverse=True,\n",
    ")\n",
    "\n",
    "index = np.floor((1 - alpha) * len(sorted_loss)).astype(int)\n",
    "VaR_MC = sorted_loss[index - 1]\n",
    "print(f\"Case Study 2 - Q1: Monte-Carlo VaR: €{VaR_MC:,.2f}\")"
   ]
  },
  {
   "cell_type": "markdown",
   "metadata": {},
   "source": [
    "The *VaR* are quite different. The Monte Carlo approach is inherently more precise: such a discrepancy suggests the our $\\Delta$-Normal approximation is far from accurate. To improve it, we could also consider the quadratic term in the Taylor expasion, related to the second order option greek $\\Gamma$."
   ]
  },
  {
   "cell_type": "code",
   "execution_count": 40,
   "metadata": {},
   "outputs": [
    {
     "name": "stdout",
     "output_type": "stream",
     "text": [
      "Case Study 2 - Q1: Monte-Carlo VaR: €286,883.13\n"
     ]
    }
   ],
   "source": [
    "# Case Study 2 - Q2: We can improved the delta normal approach introducing a second order term ->\n",
    "# Delta-Gamma Approach\n",
    "\n",
    "loss = (\n",
    "    - (put_delta * put_number + stock_number) * stock_price * risk_factor_10d\n",
    "    - 0.5 * put_gamma * put_number * (stock_price ** 2) * (risk_factor_10d ** 2)\n",
    ")\n",
    "sorted_loss = sorted(\n",
    "    loss,\n",
    "    reverse=True,\n",
    ")\n",
    "\n",
    "index = np.floor((1 - alpha) * len(sorted_loss)).astype(int)\n",
    "VaR_MC = sorted_loss[index - 1]\n",
    "print(f\"Case Study 2 - Q1: Monte-Carlo VaR: €{VaR_MC:,.2f}\")"
   ]
  },
  {
   "cell_type": "markdown",
   "metadata": {},
   "source": [
    "Considering also the $\\Gamma$ term, the two results are much closer."
   ]
  },
  {
   "cell_type": "markdown",
   "metadata": {},
   "source": [
    "## Case Study 3: Pricing in presence of counterparty risk"
   ]
  },
  {
   "cell_type": "markdown",
   "metadata": {},
   "source": [
    "The payoff structure of a Cliquet option is made up of $5$ different forward starting put $S_{t_{i-1}}-S_{t_i}$. We price the contract using a Monte Carlo simulation to generate the cashflows, to later discount them according to $\\bar{B}(t_0,t_i)$. This discount factor should also account for the survival probability of our counter-party, as will be discussed below."
   ]
  },
  {
   "cell_type": "code",
   "execution_count": 41,
   "metadata": {},
   "outputs": [],
   "source": [
    "def get_forward_zero_rate(today, date1, date2: pd.Timestamp):\n",
    "    B1 = get_discount_factor_by_zero_rates_linear_interp(today, date1, dates, discounts)\n",
    "    B2 = get_discount_factor_by_zero_rates_linear_interp(today, date2, dates, discounts)\n",
    "    fwd_B = B2 / B1\n",
    "    return -np.log(fwd_B) / year_frac_act_x(date1, date2, 365)"
   ]
  },
  {
   "cell_type": "code",
   "execution_count": 42,
   "metadata": {},
   "outputs": [],
   "source": [
    "# Case Study 3: Pricing in presence of counterparty risk\n",
    "S0 = 2.5\n",
    "vol = 0.25\n",
    "notional = 50e6\n",
    "N = int(1e5)\n",
    "alpha = 0.05\n",
    "\n",
    "discounts_option = np.array([\n",
    "    get_discount_factor_by_zero_rates_linear_interp(date, date + relativedelta(years=i), dates, discounts)\n",
    "    for i in range(1, 6)\n",
    "])\n",
    "\n",
    "fwd_zero_rates_vector = np.array([\n",
    "    get_forward_zero_rate(date, date + relativedelta(years=i), date + relativedelta(years=i+1))\n",
    "    for i in range(5)\n",
    "])\n",
    "\n",
    "# taken from Assignment3 - with accrual\n",
    "survival = np.array([1.0000, 0.9934, 0.9855, 0.9767, 0.9677, 0.9581])\n",
    "\n",
    "np.random.seed(42)\n",
    "Z = np.random.normal(size=(N, 5))  \n",
    "\n",
    "drift = fwd_zero_rates_vector - 0.5 * vol**2\n",
    "log_increments = drift + vol * Z\n",
    "\n",
    "S = np.zeros((N, 6))\n",
    "S[:, 0] = S0\n",
    "S[:, 1:] = S0 * np.exp(np.cumsum(log_increments, axis=1))\n",
    "\n",
    "payoffs = np.maximum(S[:, :-1] - S[:, 1:], 0)\n",
    "\n",
    "coupon = payoffs.mean(axis=0)\n",
    "\n",
    "price = np.sum(coupon * discounts_option[:5] * survival[1:])"
   ]
  },
  {
   "cell_type": "code",
   "execution_count": 43,
   "metadata": {},
   "outputs": [
    {
     "name": "stdout",
     "output_type": "stream",
     "text": [
      "Price of the Cliquet (Single): 1.0363654869666081\n",
      "Price of the Cliquet (Notional): 51818274.35\n"
     ]
    }
   ],
   "source": [
    "print(f\"Price of the Cliquet (Single): {price}\")\n",
    "print(f\"Price of the Cliquet (Notional): {notional*price:0.2f}\")"
   ]
  },
  {
   "cell_type": "code",
   "execution_count": 44,
   "metadata": {},
   "outputs": [
    {
     "name": "stdout",
     "output_type": "stream",
     "text": [
      "Confidence interval: [1.0330, 1.0397]\n"
     ]
    }
   ],
   "source": [
    "prices = np.sum(payoffs * discounts_option[:5] * survival[1:], axis=1)\n",
    "\n",
    "mu = np.mean(prices)\n",
    "sigma = np.std(prices, ddof=1)\n",
    "\n",
    "z = norm.ppf(1 - alpha/2)\n",
    "\n",
    "CI_lower = mu - z * sigma / np.sqrt(N)\n",
    "CI_upper = mu + z * sigma / np.sqrt(N)\n",
    "\n",
    "print(\"Confidence interval: [{:.4f}, {:.4f}]\".format(CI_lower, CI_upper))"
   ]
  },
  {
   "cell_type": "markdown",
   "metadata": {},
   "source": [
    "It is ISP's interest to be percevied as secure as possible, in order to sell the contract at higher prices. In pratice, ISP trader would run the very same model, imposing the survival probabilities of the bank itself to be equal to one, $P(t_0,t_i)=1$."
   ]
  },
  {
   "cell_type": "code",
   "execution_count": 48,
   "metadata": {},
   "outputs": [
    {
     "name": "stdout",
     "output_type": "stream",
     "text": [
      "Price of the Cliquet (Single): 1.0616950261342937\n",
      "Price of the Cliquet (Notional): 53084751.31\n"
     ]
    }
   ],
   "source": [
    "price_isp = np.sum(coupon * discounts_option[:5])\n",
    "print(f\"Price of the Cliquet (Single): {price_isp}\")\n",
    "print(f\"Price of the Cliquet (Notional): {notional*price_isp:0.2f}\")"
   ]
  },
  {
   "cell_type": "markdown",
   "metadata": {},
   "source": [
    "As expected, the option is worth more. On the total value of the contract of $50Mln$, this results in almost a one million more."
   ]
  }
 ],
 "metadata": {
  "kernelspec": {
   "display_name": "Python 3",
   "language": "python",
   "name": "python3"
  },
  "language_info": {
   "codemirror_mode": {
    "name": "ipython",
    "version": 3
   },
   "file_extension": ".py",
   "mimetype": "text/x-python",
   "name": "python",
   "nbconvert_exporter": "python",
   "pygments_lexer": "ipython3",
   "version": "3.10.11"
  }
 },
 "nbformat": 4,
 "nbformat_minor": 2
}
